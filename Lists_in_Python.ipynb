{
  "nbformat": 4,
  "nbformat_minor": 0,
  "metadata": {
    "colab": {
      "provenance": [],
      "authorship_tag": "ABX9TyPDof/F0j8NxxDDJ3il6vhD",
      "include_colab_link": true
    },
    "kernelspec": {
      "name": "python3",
      "display_name": "Python 3"
    },
    "language_info": {
      "name": "python"
    }
  },
  "cells": [
    {
      "cell_type": "markdown",
      "metadata": {
        "id": "view-in-github",
        "colab_type": "text"
      },
      "source": [
        "<a href=\"https://colab.research.google.com/github/ankitajaiwar/Python_DS/blob/Google-Collab/Lists_in_Python.ipynb\" target=\"_parent\"><img src=\"https://colab.research.google.com/assets/colab-badge.svg\" alt=\"Open In Colab\"/></a>"
      ]
    },
    {
      "cell_type": "markdown",
      "source": [
        "Arrays are continuous data structures consisting of homogenous datatype:\n",
        "Big Oh notation for Arrays:\n",
        "Insertion O(n)\n",
        "Deletion O(n)\n",
        "Lookup/Indexing O(1)\n",
        "Push( at the end of the array) O(1)\n",
        "\n",
        "In Python, lists are very similar to arrays but they can contain heterogenous datatypes.\n",
        "\n",
        "Lists can be traversed normally or in reverse( using negative indexing). Lists are changeable/mutable."
      ],
      "metadata": {
        "id": "10EiCauiDxAe"
      }
    },
    {
      "cell_type": "code",
      "source": [
        "#Array in Python O(N)\n",
        "strings = ['a', 'b', 'c', 'd']\n",
        "# If we were on a 32 bit system, 4 items, each item taking up 4 shelves( 8*4 = 32 hence each character takes 4 shelves) - 4*4. So we are using 16 bytes of storage"
      ],
      "metadata": {
        "id": "7V_Kaj-tERhj"
      },
      "execution_count": null,
      "outputs": []
    },
    {
      "cell_type": "code",
      "source": [
        "# How to do indexing O(1)\n",
        "print(strings[0], strings[1], strings[2], strings[3])"
      ],
      "metadata": {
        "colab": {
          "base_uri": "https://localhost:8080/"
        },
        "id": "k8jybUQrEm2D",
        "outputId": "5414acdc-ab75-4fc0-e4df-1f8590161d08"
      },
      "execution_count": null,
      "outputs": [
        {
          "output_type": "stream",
          "name": "stdout",
          "text": [
            "a b c d\n"
          ]
        }
      ]
    },
    {
      "cell_type": "code",
      "source": [
        "#Get length of the list O(n)\n",
        "print(len(strings))"
      ],
      "metadata": {
        "colab": {
          "base_uri": "https://localhost:8080/"
        },
        "id": "9lUbeyjOFg0Y",
        "outputId": "52b8f1e8-3d8b-414a-d08d-ac0c81c0be3e"
      },
      "execution_count": null,
      "outputs": [
        {
          "output_type": "stream",
          "name": "stdout",
          "text": [
            "4\n"
          ]
        }
      ]
    },
    {
      "cell_type": "code",
      "source": [
        "print(type(strings))"
      ],
      "metadata": {
        "colab": {
          "base_uri": "https://localhost:8080/"
        },
        "id": "3lrONKmRFqf6",
        "outputId": "37eeeb03-159f-4fd7-bbe2-006377a0a2fb"
      },
      "execution_count": null,
      "outputs": [
        {
          "output_type": "stream",
          "name": "stdout",
          "text": [
            "<class 'list'>\n"
          ]
        }
      ]
    },
    {
      "cell_type": "code",
      "source": [
        "print(strings[-1])"
      ],
      "metadata": {
        "colab": {
          "base_uri": "https://localhost:8080/"
        },
        "id": "NP-O0QjhF5zH",
        "outputId": "f2c71b0d-8eda-4d0b-f6ca-952f24dc24e7"
      },
      "execution_count": null,
      "outputs": [
        {
          "output_type": "stream",
          "name": "stdout",
          "text": [
            "d\n"
          ]
        }
      ]
    },
    {
      "cell_type": "code",
      "source": [
        "print(strings[:-2])"
      ],
      "metadata": {
        "colab": {
          "base_uri": "https://localhost:8080/"
        },
        "id": "rd5YHaTsGBzJ",
        "outputId": "ce2d4774-bb93-4829-b003-e4a351ae6324"
      },
      "execution_count": null,
      "outputs": [
        {
          "output_type": "stream",
          "name": "stdout",
          "text": [
            "['a', 'b']\n"
          ]
        }
      ]
    },
    {
      "cell_type": "code",
      "source": [
        "print(strings[::-1])"
      ],
      "metadata": {
        "colab": {
          "base_uri": "https://localhost:8080/"
        },
        "id": "chnUFAEsGELI",
        "outputId": "81129a67-c16a-4f3f-8346-bd53f11499d6"
      },
      "execution_count": null,
      "outputs": [
        {
          "output_type": "stream",
          "name": "stdout",
          "text": [
            "['d', 'c', 'b', 'a']\n"
          ]
        }
      ]
    },
    {
      "cell_type": "code",
      "source": [
        "print(strings[::-2])"
      ],
      "metadata": {
        "colab": {
          "base_uri": "https://localhost:8080/"
        },
        "id": "-GAzxGI9GINo",
        "outputId": "415a844e-88e9-46f0-de20-05efc0c9f9bc"
      },
      "execution_count": null,
      "outputs": [
        {
          "output_type": "stream",
          "name": "stdout",
          "text": [
            "['d', 'b']\n"
          ]
        }
      ]
    },
    {
      "cell_type": "code",
      "source": [
        "print(strings[-2:])"
      ],
      "metadata": {
        "colab": {
          "base_uri": "https://localhost:8080/"
        },
        "id": "reXJQZiJGKEI",
        "outputId": "1db93daf-c36c-4d44-dec7-211f8f8898f9"
      },
      "execution_count": null,
      "outputs": [
        {
          "output_type": "stream",
          "name": "stdout",
          "text": [
            "['c', 'd']\n"
          ]
        }
      ]
    },
    {
      "cell_type": "code",
      "source": [
        "if 'b' in strings:\n",
        "  print(\"YEs\")\n"
      ],
      "metadata": {
        "colab": {
          "base_uri": "https://localhost:8080/"
        },
        "id": "tpjKL1BoGSHo",
        "outputId": "8ed1f728-28b0-494d-96c5-f0145489fbb1"
      },
      "execution_count": null,
      "outputs": [
        {
          "output_type": "stream",
          "name": "stdout",
          "text": [
            "YEs\n"
          ]
        }
      ]
    },
    {
      "cell_type": "code",
      "source": [
        "strings[2] = 'e'\n",
        "strings"
      ],
      "metadata": {
        "colab": {
          "base_uri": "https://localhost:8080/"
        },
        "id": "_H5fvY2eG2qY",
        "outputId": "63771005-777c-4121-ea92-b765f9b17fbe"
      },
      "execution_count": null,
      "outputs": [
        {
          "output_type": "execute_result",
          "data": {
            "text/plain": [
              "['a', 'b', 'e', 'd']"
            ]
          },
          "metadata": {},
          "execution_count": 224
        }
      ]
    },
    {
      "cell_type": "code",
      "source": [
        "strings[strings.index('b')] = 'f' #O(1)\n",
        "strings"
      ],
      "metadata": {
        "colab": {
          "base_uri": "https://localhost:8080/"
        },
        "id": "5tUKXD1DHT6w",
        "outputId": "af248c81-ef00-4639-cecb-c5d2a429a941"
      },
      "execution_count": null,
      "outputs": [
        {
          "output_type": "execute_result",
          "data": {
            "text/plain": [
              "['a', 'f', 'e', 'd']"
            ]
          },
          "metadata": {},
          "execution_count": 225
        }
      ]
    },
    {
      "cell_type": "code",
      "source": [
        "strings.insert(1, \"b\") #O(n)\n",
        "strings"
      ],
      "metadata": {
        "colab": {
          "base_uri": "https://localhost:8080/"
        },
        "id": "BcAJFKceHl_H",
        "outputId": "0d44764e-06f2-4c31-ea9b-494c945f59dc"
      },
      "execution_count": null,
      "outputs": [
        {
          "output_type": "execute_result",
          "data": {
            "text/plain": [
              "['a', 'b', 'f', 'e', 'd']"
            ]
          },
          "metadata": {},
          "execution_count": 226
        }
      ]
    },
    {
      "cell_type": "code",
      "source": [
        "strings.append('g') #O(1)\n",
        "strings"
      ],
      "metadata": {
        "colab": {
          "base_uri": "https://localhost:8080/"
        },
        "id": "GNnDp2N5Hzsn",
        "outputId": "d99ec995-64c2-4776-901a-ed4097f50d5c"
      },
      "execution_count": null,
      "outputs": [
        {
          "output_type": "execute_result",
          "data": {
            "text/plain": [
              "['a', 'b', 'f', 'e', 'd', 'g']"
            ]
          },
          "metadata": {},
          "execution_count": 227
        }
      ]
    },
    {
      "cell_type": "code",
      "source": [
        "strings.extend(['h', 'i']) #depends on length of extension O(m) if m is length of extension\n",
        "strings"
      ],
      "metadata": {
        "colab": {
          "base_uri": "https://localhost:8080/"
        },
        "id": "yOFMhWWOH7uX",
        "outputId": "b1053467-1a31-4659-8456-7987888d9168"
      },
      "execution_count": null,
      "outputs": [
        {
          "output_type": "execute_result",
          "data": {
            "text/plain": [
              "['a', 'b', 'f', 'e', 'd', 'g', 'h', 'i']"
            ]
          },
          "metadata": {},
          "execution_count": 228
        }
      ]
    },
    {
      "cell_type": "code",
      "source": [
        "strings.append(('j', 'k')) # any iterable can be used to extend. I am using tuples here \n",
        "strings"
      ],
      "metadata": {
        "colab": {
          "base_uri": "https://localhost:8080/"
        },
        "id": "j_bbGeyxIA1n",
        "outputId": "8b737922-d46b-4c95-86dd-854bff33ce48"
      },
      "execution_count": null,
      "outputs": [
        {
          "output_type": "execute_result",
          "data": {
            "text/plain": [
              "['a', 'b', 'f', 'e', 'd', 'g', 'h', 'i', ('j', 'k')]"
            ]
          },
          "metadata": {},
          "execution_count": 229
        }
      ]
    },
    {
      "cell_type": "code",
      "source": [
        "#remove funstion removes a particular item O(n)\n",
        "strings.remove(('j', 'k'))\n",
        "strings"
      ],
      "metadata": {
        "colab": {
          "base_uri": "https://localhost:8080/"
        },
        "id": "Ll3C3PalIQ3n",
        "outputId": "53a9c31a-b1ce-4430-a187-67859dfcbbef"
      },
      "execution_count": null,
      "outputs": [
        {
          "output_type": "execute_result",
          "data": {
            "text/plain": [
              "['a', 'b', 'f', 'e', 'd', 'g', 'h', 'i']"
            ]
          },
          "metadata": {},
          "execution_count": 230
        }
      ]
    },
    {
      "cell_type": "code",
      "source": [
        "#pop removes an item at particular index and returns it O(n)\n",
        "strings.pop(7)"
      ],
      "metadata": {
        "colab": {
          "base_uri": "https://localhost:8080/",
          "height": 35
        },
        "id": "Kvwur-aCIgiX",
        "outputId": "45d8cedc-2e01-4a61-c039-7f9435e1ba41"
      },
      "execution_count": null,
      "outputs": [
        {
          "output_type": "execute_result",
          "data": {
            "text/plain": [
              "'i'"
            ],
            "application/vnd.google.colaboratory.intrinsic+json": {
              "type": "string"
            }
          },
          "metadata": {},
          "execution_count": 231
        }
      ]
    },
    {
      "cell_type": "code",
      "source": [
        "# if you don't specify item's index with pop it deletes the last item O(1)\n",
        "strings.pop() \n",
        "strings"
      ],
      "metadata": {
        "colab": {
          "base_uri": "https://localhost:8080/"
        },
        "id": "q3ES-RByImxm",
        "outputId": "d5c7221c-1c38-468e-eb9a-5b5265377b1e"
      },
      "execution_count": null,
      "outputs": [
        {
          "output_type": "execute_result",
          "data": {
            "text/plain": [
              "['a', 'b', 'f', 'e', 'd', 'g']"
            ]
          },
          "metadata": {},
          "execution_count": 232
        }
      ]
    },
    {
      "cell_type": "code",
      "source": [
        "#del keyword deletes the item at specified index but doesn't return it O(n)\n",
        "del strings[1] "
      ],
      "metadata": {
        "id": "LTGsPhYoIvWm"
      },
      "execution_count": null,
      "outputs": []
    },
    {
      "cell_type": "code",
      "source": [
        "strings"
      ],
      "metadata": {
        "colab": {
          "base_uri": "https://localhost:8080/"
        },
        "id": "YsdrizM7I9d2",
        "outputId": "d22a3618-8625-46fb-eda3-527b78b214c9"
      },
      "execution_count": null,
      "outputs": [
        {
          "output_type": "execute_result",
          "data": {
            "text/plain": [
              "['a', 'f', 'e', 'd', 'g']"
            ]
          },
          "metadata": {},
          "execution_count": 234
        }
      ]
    },
    {
      "cell_type": "code",
      "source": [
        "# del can also delete the entire list\n",
        "del strings"
      ],
      "metadata": {
        "id": "qcOF74yAI-EG"
      },
      "execution_count": null,
      "outputs": []
    },
    {
      "cell_type": "markdown",
      "source": [
        "Static Vs Dynamic Arrays: Static arrays are fixed in size. Dynamic arrays are changeable in terms of size.\n",
        "\n",
        "In python, there is no way to specify the capacity of an array upfront when it is instantiated because python arrays use resizable vectors under the hood and this works whenever adding an object to an array that has already reached its maximum capacity, a new array is reallocated with the capacity to hold twice as much as the previous array. As a result, python arrays are dynamic and are called Lists."
      ],
      "metadata": {
        "id": "K3ccaeYGJCsm"
      }
    },
    {
      "cell_type": "code",
      "source": [
        "array = [None]*10\n",
        "array"
      ],
      "metadata": {
        "colab": {
          "base_uri": "https://localhost:8080/"
        },
        "id": "Hf6D_RfZRl_b",
        "outputId": "a1119c48-0c18-45a3-adb8-4298c5ec0bf2"
      },
      "execution_count": null,
      "outputs": [
        {
          "output_type": "execute_result",
          "data": {
            "text/plain": [
              "[None, None, None, None, None, None, None, None, None, None]"
            ]
          },
          "metadata": {},
          "execution_count": 236
        }
      ]
    },
    {
      "cell_type": "code",
      "source": [
        "array[0] = 1\n",
        "array"
      ],
      "metadata": {
        "colab": {
          "base_uri": "https://localhost:8080/"
        },
        "id": "YW9t9LmIRo5S",
        "outputId": "3f5b3f5e-21d4-4589-f293-232e718b7258"
      },
      "execution_count": null,
      "outputs": [
        {
          "output_type": "execute_result",
          "data": {
            "text/plain": [
              "[1, None, None, None, None, None, None, None, None, None]"
            ]
          },
          "metadata": {},
          "execution_count": 237
        }
      ]
    },
    {
      "cell_type": "code",
      "source": [
        "array.append(1) # still not fixed size\n",
        "array"
      ],
      "metadata": {
        "colab": {
          "base_uri": "https://localhost:8080/"
        },
        "id": "gMOg31epRrRR",
        "outputId": "6a30c692-6e05-4351-d65a-2a72ada99687"
      },
      "execution_count": null,
      "outputs": [
        {
          "output_type": "execute_result",
          "data": {
            "text/plain": [
              "[1, None, None, None, None, None, None, None, None, None, 1]"
            ]
          },
          "metadata": {},
          "execution_count": 238
        }
      ]
    },
    {
      "cell_type": "code",
      "source": [
        "array2 = [None for _ in range(0,10)] # _ is just a variable, if its not required in further code _ can be used in place of any variable name\n",
        "array2[0] = 1\n",
        "array2"
      ],
      "metadata": {
        "colab": {
          "base_uri": "https://localhost:8080/"
        },
        "id": "rapVOiFRRvXB",
        "outputId": "0bcf0fc0-e17c-43b9-b22d-01eb8be35bc4"
      },
      "execution_count": null,
      "outputs": [
        {
          "output_type": "execute_result",
          "data": {
            "text/plain": [
              "[1, None, None, None, None, None, None, None, None, None]"
            ]
          },
          "metadata": {},
          "execution_count": 239
        }
      ]
    },
    {
      "cell_type": "markdown",
      "source": [
        "Creating static Arrays in Python From Scratch\n",
        "\n",
        "Just the len() and assign function"
      ],
      "metadata": {
        "id": "2tywKTU2R7US"
      }
    },
    {
      "cell_type": "code",
      "source": [
        "import ctypes # ctypes is a foreign function library for Python. It provides C compatible data types, and allows calling functions in DLLs or shared libraries. It can be used to wrap these libraries in pure Python.\n",
        "class Newarray:\n",
        "  def __init__(self, size):\n",
        "    self.size = size\n",
        "    self.array = self.make_array(self.size)\n",
        "\n",
        "  def __len__(self):\n",
        "    return self.size\n",
        "\n",
        "  def getitem(self, index):\n",
        "      if index >= self.size:\n",
        "          return IndexError('Out Of Bounds')\n",
        "      return self.array[index]\n",
        "\n",
        "  def printarray(self):\n",
        "    return self.array[:self.size]\n",
        "\n",
        "  def assign(self, ele, pos):\n",
        "    self.array[pos] = ele\n",
        "    print(\"Hello\")\n",
        "\n",
        "\n",
        "  def make_array(self, size):\n",
        "        return (self.size * ctypes.py_object)()\n",
        "\n",
        "\n"
      ],
      "metadata": {
        "id": "V1_LrlILTXyv"
      },
      "execution_count": null,
      "outputs": []
    },
    {
      "cell_type": "code",
      "source": [
        "newarray1 = Newarray(5)\n"
      ],
      "metadata": {
        "id": "dX993bogV9uh"
      },
      "execution_count": null,
      "outputs": []
    },
    {
      "cell_type": "code",
      "source": [
        "len(newarray1)"
      ],
      "metadata": {
        "colab": {
          "base_uri": "https://localhost:8080/"
        },
        "id": "am-jYdPmWPV_",
        "outputId": "504905d2-c792-4d0d-b635-0c3b1e69dbc1"
      },
      "execution_count": null,
      "outputs": [
        {
          "output_type": "execute_result",
          "data": {
            "text/plain": [
              "5"
            ]
          },
          "metadata": {},
          "execution_count": 242
        }
      ]
    },
    {
      "cell_type": "code",
      "source": [
        "newarray1.assign(2, 0)\n",
        "newarray1.assign(3,1)\n",
        "newarray1.assign(3,2)\n",
        "newarray1.assign(3,3)\n",
        "newarray1.assign(5,4)"
      ],
      "metadata": {
        "id": "cO49QQXAWuyO",
        "colab": {
          "base_uri": "https://localhost:8080/"
        },
        "outputId": "de247a53-3d9c-4e4c-89e4-c392fdd4e2d4"
      },
      "execution_count": null,
      "outputs": [
        {
          "output_type": "stream",
          "name": "stdout",
          "text": [
            "Hello\n",
            "Hello\n",
            "Hello\n",
            "Hello\n",
            "Hello\n"
          ]
        }
      ]
    },
    {
      "cell_type": "code",
      "source": [
        "newarray1.getitem(0)"
      ],
      "metadata": {
        "colab": {
          "base_uri": "https://localhost:8080/"
        },
        "id": "StrLoE0tXgmO",
        "outputId": "c88f0d2d-8151-4e18-bafa-3506fcc02070"
      },
      "execution_count": null,
      "outputs": [
        {
          "output_type": "execute_result",
          "data": {
            "text/plain": [
              "2"
            ]
          },
          "metadata": {},
          "execution_count": 244
        }
      ]
    },
    {
      "cell_type": "code",
      "source": [
        "newarray1.printarray()"
      ],
      "metadata": {
        "id": "NQ_jy3UsXj5_",
        "colab": {
          "base_uri": "https://localhost:8080/"
        },
        "outputId": "846e92fa-9f92-4cf6-b960-9bd5af67745a"
      },
      "execution_count": null,
      "outputs": [
        {
          "output_type": "execute_result",
          "data": {
            "text/plain": [
              "[2, 3, 3, 3, 5]"
            ]
          },
          "metadata": {},
          "execution_count": 245
        }
      ]
    },
    {
      "cell_type": "markdown",
      "source": [
        "## **Questions on Arrays**\n",
        "1. **Two sum problem:** Given an array of integers, return the indices of two numbers that add up to a ceertain target value."
      ],
      "metadata": {
        "id": "1w0PYsQaZmJs"
      }
    },
    {
      "cell_type": "markdown",
      "source": [
        "Example: \n",
        "Input: [1, 3, 7, 9, 2], 11\n",
        "\n",
        "Output: [3,4]"
      ],
      "metadata": {
        "id": "PIaikK96bdmk"
      }
    },
    {
      "cell_type": "markdown",
      "source": [
        "**Step 1:** Very Important step in any question: **Verify the constraints**. Ask about it if not given:\n",
        "\n",
        "Q1. Are all of the integers positive?\n",
        "Q2. Are all of the numbers unique or can we have duplicates in the array?\n",
        "Q3. Will there always be a solution available?\n",
        "Q4. what do we return if there is no solution? For ex. Null\n",
        "Q5. Can there be multiple pairs that add up to the target value?\n",
        "\n",
        "**Step 2**: Come up with test cases together.\n",
        "Test Case 1: (Best Case Test):\n",
        "\n",
        "Input: [1, 3, 7, 9, 2], 11\n",
        "Output: [3,4]\n",
        "\n",
        "Test Case 2: [1, 3, 7, 9, 2], 25\n",
        "Output: Null\n",
        "\n",
        "Test Case 3: [], 1\n",
        "Output: Null\n",
        "\n",
        "Test Case 4: [5], 5\n",
        "Output: Null\n",
        "\n",
        "Test Case 5: [2,3], 5\n",
        "Output: [0,1]\n",
        "\n",
        "**Step 3**: Figure out a solution:\n",
        "\n",
        "**Brute Force:** The technique we are using here is also known as 2 pointer techniques.\n",
        "\n",
        "First for loop:\n",
        "\n",
        "traverse through the array with variable i\n",
        "\n",
        "Second for loop:\n",
        "\n",
        "Traverse through the array[i:] with variable j and check if array[i]+array[j] = target.\n",
        "\n",
        "\n",
        "If found return [i,j] else return Null.\n",
        "\n",
        "\n",
        "Time Complexity O(n^2)\n",
        "Space Complexity: O(1)\n",
        "\n",
        "**Better Solution**\n",
        "\n",
        "Take a dictionary and keep storing target-current number as key and its index as value.\n",
        "For loop with variable i:\n",
        "\n",
        "If array[i] in dict:\n",
        "\n",
        "  return [i,dict[array[i]]]\n",
        "\n",
        "else:\n",
        "\n",
        "  return Null\n",
        "\n",
        "  Time Complexity: O(n)\n",
        "  space complexity: O(n)\n"
      ],
      "metadata": {
        "id": "B8aGkKtCb4b1"
      }
    },
    {
      "cell_type": "code",
      "source": [
        "#Brute Force Solution:\n",
        "\n",
        "def twosum(array, target):\n",
        "  for i in range(0, len(array)):\n",
        "    for j in range(i+1, len(array)):\n",
        "      if array[i]+array[j] == target:\n",
        "        return [i,j]\n",
        "\n",
        "  return None\n",
        "print(\"Test Case 1: \"+str(twosum([1, 3, 7, 9, 2], 11)))\n",
        "print(\"Test Case 2: \", twosum([1, 3, 7, 9, 2 ], 25))\n",
        "print(\"Test Case 3:\", twosum([], 5))\n",
        "print(\"Test Case 4: \", twosum([5], 5))\n",
        "print(\"Test Case 5:\", twosum([2,3], 5))\n",
        "\n",
        "\n",
        "\n"
      ],
      "metadata": {
        "colab": {
          "base_uri": "https://localhost:8080/"
        },
        "id": "LROVK_yod-WW",
        "outputId": "c93ccfc9-5426-447e-be90-021325ead5a5"
      },
      "execution_count": null,
      "outputs": [
        {
          "output_type": "stream",
          "name": "stdout",
          "text": [
            "Test Case 1: [3, 4]\n",
            "Test Case 2:  None\n",
            "Test Case 3: None\n",
            "Test Case 4:  None\n",
            "Test Case 5: [0, 1]\n"
          ]
        }
      ]
    },
    {
      "cell_type": "code",
      "source": [
        "#Better Solution\n",
        "\n",
        "def twosum_better(array, target):\n",
        "  dictionary = {}\n",
        "\n",
        "  for i in range(0, len(array)):\n",
        "    if array[i] in dictionary:\n",
        "      return [ dictionary[array[i]], i ]\n",
        "\n",
        "    else:\n",
        "      dictionary[target-array[i]] = i\n",
        "\n",
        "  return None\n",
        "print(\"Test Case 1: \"+str(twosum_better([1, 3, 7, 9, 2], 11)))\n",
        "print(\"Test Case 2: \", twosum_better([1, 3, 7, 9, 2 ], 25))\n",
        "print(\"Test Case 3:\", twosum_better([], 5))\n",
        "print(\"Test Case 4: \", twosum_better([5], 5))\n",
        "print(\"Test Case 5:\", twosum_better([2,3], 5))\n"
      ],
      "metadata": {
        "colab": {
          "base_uri": "https://localhost:8080/"
        },
        "id": "O_WXRGpWiDJ4",
        "outputId": "3aa9a44c-5acc-479f-9467-99cf241bae48"
      },
      "execution_count": null,
      "outputs": [
        {
          "output_type": "stream",
          "name": "stdout",
          "text": [
            "Test Case 1: [3, 4]\n",
            "Test Case 2:  None\n",
            "Test Case 3: None\n",
            "Test Case 4:  None\n",
            "Test Case 5: [0, 1]\n"
          ]
        }
      ]
    },
    {
      "cell_type": "code",
      "source": [
        "#Variation of Constraint 1: Are all the integers positive? NO\n",
        "\n",
        "#Check if our better solution still works:\n",
        "print(\"Test Case 1: \"+str(twosum_better([-1, -3, 7, -9, 2], -12)))\n",
        "print(\"Test Case 5:\", twosum_better([-1,3], 2))\n"
      ],
      "metadata": {
        "colab": {
          "base_uri": "https://localhost:8080/"
        },
        "id": "AYjLau6Yqe1j",
        "outputId": "dae263d6-21db-4c0c-b9ee-959850111201"
      },
      "execution_count": null,
      "outputs": [
        {
          "output_type": "stream",
          "name": "stdout",
          "text": [
            "Test Case 1: [1, 3]\n",
            "Test Case 5: [0, 1]\n"
          ]
        }
      ]
    },
    {
      "cell_type": "code",
      "source": [
        "#Variation of Constraint 2: Are all of the numbers unique or can we have duplicates in the array?  Can have duplicates\n",
        "\n",
        "#Check if our better solution still works:\n",
        "\n",
        "print(\"Test Case 1: \"+str(twosum_better([-3, -3, 7, -9, 2], -12)))\n",
        "\n"
      ],
      "metadata": {
        "colab": {
          "base_uri": "https://localhost:8080/"
        },
        "id": "_8f8ykdjrxpj",
        "outputId": "d11022e5-1ccb-4c3b-9646-3474573c3296"
      },
      "execution_count": null,
      "outputs": [
        {
          "output_type": "stream",
          "name": "stdout",
          "text": [
            "Test Case 1: [1, 3]\n"
          ]
        }
      ]
    },
    {
      "cell_type": "code",
      "source": [
        "#Change in code to return the first pair for variation of constraint 2\n",
        "\n",
        "def twosum_better(array, target):\n",
        "  dictionary = {}\n",
        "\n",
        "  for i in range(0, len(array)):\n",
        "    if target-array[i] not in dictionary:\n",
        "      if array[i] in dictionary:\n",
        "        return [ dictionary[array[i]], i ]\n",
        "\n",
        "      else:\n",
        "        dictionary[target-array[i]] = i\n",
        "\n",
        "  return None\n",
        "print(\"Test Case 1: \"+str(twosum_better([-3, -3, 7, -9, 2], -12)))"
      ],
      "metadata": {
        "colab": {
          "base_uri": "https://localhost:8080/"
        },
        "id": "rqIjr0Z5sFPj",
        "outputId": "0cd4f037-7ddd-4d80-db99-d875d17a599e"
      },
      "execution_count": null,
      "outputs": [
        {
          "output_type": "stream",
          "name": "stdout",
          "text": [
            "Test Case 1: [0, 3]\n"
          ]
        }
      ]
    },
    {
      "cell_type": "code",
      "source": [
        "#Variation of Constraint 5:  Can there be multiple pairs that add up to the target value? Yes and return all such pairs\n",
        "'''\n",
        "[1,9, 7, 9, 2] 11\n",
        "\n",
        "i = 0, a[i] = 1\n",
        "dict[10] = [0]\n",
        "i = 1, a[i] = 9\n",
        "dict[2] = [1] \n",
        "i = 2, a[i] = 7\n",
        "dict[4] = [2]\n",
        "i = 3, a[i] = 9\n",
        "dict[2].append(i)\n",
        "'''\n",
        "\n",
        "def twosum_better(array, target):\n",
        "  dictionary = {}\n",
        "  result = []\n",
        "  for i in range(0, len(array)):\n",
        "    \n",
        "      if array[i] in dictionary:\n",
        "        result.append( [ dictionary[array[i]], i ])\n",
        "        \n",
        "      else:\n",
        "        if target-array[i] in dictionary:\n",
        "          dictionary[target-array[i]].append(i)\n",
        "\n",
        "        else:\n",
        "\n",
        "          dictionary[target-array[i]] = [i]\n",
        "\n",
        "  if result:\n",
        "    return result\n",
        "  else:\n",
        "    return None\n",
        "print(\"Test Case 1: \"+str(twosum_better([-3, -3, 7, -9, 2, -6, -6], -12)))"
      ],
      "metadata": {
        "colab": {
          "base_uri": "https://localhost:8080/"
        },
        "id": "_9qm5m4TzLkQ",
        "outputId": "a5bbce66-1d19-4ee3-a1ef-bd4b10595d20"
      },
      "execution_count": null,
      "outputs": [
        {
          "output_type": "stream",
          "name": "stdout",
          "text": [
            "Test Case 1: [[[0, 1], 3], [[5], 6]]\n"
          ]
        }
      ]
    },
    {
      "cell_type": "markdown",
      "source": [
        "Generic Way of Solving K(2, 3, 4...) Sum Problems using 2 pointers\n"
      ],
      "metadata": {
        "id": "ZzmOQCfyz3bO"
      }
    },
    {
      "cell_type": "markdown",
      "source": [
        "Ex: 4 sum\n",
        "Run regular for loops for outer 2 loops\n",
        "\n",
        "Inner 2 sum loop common:\n",
        "\n",
        "Step 1: Sort the array\n",
        "\n",
        "Step 2: Initialize the two pointers start and end\n",
        "\n",
        "Step 3: While start < end:\n",
        "\n",
        "If array[start] + array[end] equals k: It means we have found a pair with the required sum. result.append((start, end)), start = start+1 end = end-1\n",
        "\n",
        "If array[start] + array[end] < k: start = start+1\n",
        "\n",
        "If array[start] + array[end] >k: end = end-1\n",
        "\n",
        "Time Complexity O(nlogn)*n^(k-2) for k sum problem\n"
      ],
      "metadata": {
        "id": "ea9dNOThM96z"
      }
    },
    {
      "cell_type": "code",
      "source": [
        "def four_sum(a, target):\n",
        "  \n",
        "  a.sort() # The primary difference between the two is that list. sort() will sort the list in-place, mutating its indexes and returning None , whereas sorted() will return a new sorted list leaving the original list unchanged. \n",
        "  result = []\n",
        "  for i in range(0, len(a)):\n",
        "    for j in range(i+1, len(a)):\n",
        "      start = j+1\n",
        "      end = len(a)-1\n",
        "      while start < end:\n",
        "        if a[start]+ a[end] == target-a[i]-a[j]:\n",
        "          result.append([i,j,start, end])\n",
        "          start = start+1\n",
        "          end = end-1\n",
        "        elif a[start]+a[end] < target-a[i]-a[j]:\n",
        "          start = start+1\n",
        "        else:\n",
        "          end = end-1\n",
        "\n",
        "  return result\n",
        "\n",
        "print(\"Four sum output: \", four_sum([-9, 0,0, 1, 2, 2, 3, 7, 9, 10], 11))\n",
        "                                     "
      ],
      "metadata": {
        "colab": {
          "base_uri": "https://localhost:8080/"
        },
        "id": "hQOukUEASTeT",
        "outputId": "faf73da4-e188-4794-ddba-bd6946d440f6"
      },
      "execution_count": 15,
      "outputs": [
        {
          "output_type": "stream",
          "name": "stdout",
          "text": [
            "Four sum output:  [[0, 3, 8, 9], [0, 6, 7, 9], [1, 2, 3, 9], [1, 2, 4, 8], [1, 3, 6, 7], [1, 4, 5, 7], [2, 3, 6, 7], [2, 4, 5, 7]]\n"
          ]
        }
      ]
    },
    {
      "cell_type": "code",
      "source": [
        "#Sort index according to values\n",
        "sorted(range(len(x)), key = lambda i: x[i])"
      ],
      "metadata": {
        "colab": {
          "base_uri": "https://localhost:8080/"
        },
        "id": "YRmBPTzJamBL",
        "outputId": "3dc27a38-0412-4c22-fbfd-2d06065ba115"
      },
      "execution_count": 11,
      "outputs": [
        {
          "output_type": "execute_result",
          "data": {
            "text/plain": [
              "[2, 0, 1, 3, 4, 5, 6, 7, 8, 9]"
            ]
          },
          "metadata": {},
          "execution_count": 11
        }
      ]
    },
    {
      "cell_type": "markdown",
      "source": [
        "\n",
        "\n",
        "```\n",
        "**2. Container With Most Water**\n",
        "\n",
        "In this question you are given an array with positive integers with each integer representing height of a vertical line on a graph. Find two lines that together with the x axis hold the greatest amount of the water. Return the area of water it would hold.\n",
        "\n",
        "Constraints: \n",
        "1. Do we need to return area under continuous lines? No\n",
        "2. Do the left and right side of the graphs can be used as walls? No\n",
        "3. Can the array be empty? YEs\n",
        "4. Can there only be 1 element int he array? Yes\n",
        "\n",
        "Ex input [1, 8, 6, 2, 9, 4] Output: 24\n",
        "        |\n",
        "  |     |\n",
        "  |     |\n",
        "  | |   |\n",
        "  | |   | \n",
        "  | |   | |\n",
        "  | |   | |\n",
        "  | | | | |\n",
        "| | | | | |\n",
        "\n",
        "Solution: linear traversal: find highest and second highest return area between the two\n",
        "\n",
        "time complexity: O(n)\n",
        "```\n"
      ],
      "metadata": {
        "id": "UOhXwvhHbodE"
      }
    },
    {
      "cell_type": "code",
      "source": [
        "def water(array):\n",
        "\n",
        "  if not array:\n",
        "    return None\n",
        "\n",
        "  if len(array) ==1:\n",
        "    return None\n",
        "\n",
        "\n",
        "  high = 0\n",
        "  s_high = 0\n",
        "  for i in range(1, len(array)):\n",
        "    if array[i]> array[high]:\n",
        "      s_high = high\n",
        "      high = i\n",
        "    elif array[i] > array[s_high]:\n",
        "      s_high = i\n",
        " \n",
        "  return abs(high-s_high)*abs(array[s_high])\n",
        "\n",
        "\n",
        "print(water([1, 8, 6, 2, 9, 4]))\n",
        "print(water([]))\n",
        "print(water([1]))\n",
        "print(water([1, 7, 2, 0, 1, 3]))\n",
        "print(water([7, 1, 2, 3, 9]))\n"
      ],
      "metadata": {
        "colab": {
          "base_uri": "https://localhost:8080/"
        },
        "id": "GnZRVH3oh7UT",
        "outputId": "ea1dfd6c-6cf3-4419-e354-7deac786c047"
      },
      "execution_count": 36,
      "outputs": [
        {
          "output_type": "stream",
          "name": "stdout",
          "text": [
            "24\n",
            "None\n",
            "None\n",
            "12\n",
            "28\n"
          ]
        }
      ]
    },
    {
      "cell_type": "markdown",
      "source": [
        "\n",
        "\n",
        "```\n",
        "**3. Trapping Rainwater**\n",
        "\n",
        "Given an array of integers representing an elvation map where width of each bar is 1(this is where it differs from previous question, distance is when element in between = 0). Return how much rainwater can be trapped(total not the greatest)\n",
        "\n",
        "Constraints: 1. All positive numbers? Yes\n",
        "2. Do we need to consider only continuous bars? No\n",
        "3. Can the array be empty? Yes\n",
        "4. Can it contain only 1 number? Yes\n",
        "Solution: Height of water can never exceed the height of the lower bar.\n",
        "water = 0\n",
        "water = min(max_left, max_right)-current height at the point\n",
        "\n",
        "max_left = 0\n",
        "max_right = 0\n",
        "use while loops to iterate left and right from current p\n",
        "water = min(max_left, max_right)-current height at the point\n",
        "\n",
        "if water < 0:\n",
        "  skip\n",
        "\n",
        "\n",
        "\n",
        "\n",
        "```\n",
        "\n",
        "\n",
        "\n",
        "\n",
        "\n",
        "\n",
        "\n",
        "\n",
        "\n"
      ],
      "metadata": {
        "id": "7rcA65Xci1_9"
      }
    },
    {
      "cell_type": "code",
      "source": [
        "def rain(array):\n",
        "  water = 0\n",
        "  for i in range(0, len(array)):\n",
        "    current = i\n",
        "    left = i\n",
        "    right = i\n",
        "    left_max = 0\n",
        "    right_max = 0\n",
        "    while(left >0 ):\n",
        "      if array[left] > array[left_max]:\n",
        "        left_max = left\n",
        "        \n",
        "      left = left-1\n",
        "    while(right <len(array)):\n",
        "      if array[right] > array[right_max]:\n",
        "        right_max = right\n",
        "        \n",
        "      right = right+1\n",
        "    w = min(array[left_max], array[right_max]) - array[current]\n",
        "    if w >0:\n",
        "      water += w\n",
        "\n",
        "  return water\n",
        "\n",
        "print(\"Rain water\", rain([0,1,0,2,1,0,3,1,0,1,2]))\n",
        "\n",
        "  \n"
      ],
      "metadata": {
        "colab": {
          "base_uri": "https://localhost:8080/"
        },
        "id": "9o3c-SiTpaqH",
        "outputId": "55d577f6-9f60-42f9-bce7-3211265c8261"
      },
      "execution_count": 53,
      "outputs": [
        {
          "output_type": "stream",
          "name": "stdout",
          "text": [
            "Rain water 8\n"
          ]
        }
      ]
    },
    {
      "cell_type": "markdown",
      "source": [
        "Strings are arrays of characters (list of characters in Python)"
      ],
      "metadata": {
        "id": "oFwc_uuOqW1u"
      }
    },
    {
      "cell_type": "code",
      "source": [
        "string = \"Hello\"\n",
        "list(string)"
      ],
      "metadata": {
        "colab": {
          "base_uri": "https://localhost:8080/"
        },
        "id": "CCZ0GVg71xXB",
        "outputId": "9f12b598-7549-4f2a-c13d-962373429fa2"
      },
      "execution_count": 54,
      "outputs": [
        {
          "output_type": "execute_result",
          "data": {
            "text/plain": [
              "['H', 'e', 'l', 'l', 'o']"
            ]
          },
          "metadata": {},
          "execution_count": 54
        }
      ]
    },
    {
      "cell_type": "code",
      "source": [
        "string[::-1]"
      ],
      "metadata": {
        "colab": {
          "base_uri": "https://localhost:8080/",
          "height": 35
        },
        "id": "nzPq1Lcj11dv",
        "outputId": "9ac5cf6b-5292-45f9-da81-9f8b48c5b9cf"
      },
      "execution_count": 56,
      "outputs": [
        {
          "output_type": "execute_result",
          "data": {
            "text/plain": [
              "'olleH'"
            ],
            "application/vnd.google.colaboratory.intrinsic+json": {
              "type": "string"
            }
          },
          "metadata": {},
          "execution_count": 56
        }
      ]
    },
    {
      "cell_type": "code",
      "source": [
        "list_string = [\"W\", \"h\", \"a\", \"t\"]\n",
        "''.join(list_string)"
      ],
      "metadata": {
        "colab": {
          "base_uri": "https://localhost:8080/",
          "height": 35
        },
        "id": "ugCjXSOw14ey",
        "outputId": "f432fa87-172c-40a8-bfbd-dd6499fa3c9e"
      },
      "execution_count": 57,
      "outputs": [
        {
          "output_type": "execute_result",
          "data": {
            "text/plain": [
              "'What'"
            ],
            "application/vnd.google.colaboratory.intrinsic+json": {
              "type": "string"
            }
          },
          "metadata": {},
          "execution_count": 57
        }
      ]
    },
    {
      "cell_type": "code",
      "source": [
        "#Reverse a string in traditional manner\n",
        "list_s = []\n",
        "for i in range(len(string)-1, -1, -1):\n",
        "  list_s.append(string[i])\n",
        "\n",
        "print(''.join(list_s))\n",
        "\n"
      ],
      "metadata": {
        "colab": {
          "base_uri": "https://localhost:8080/"
        },
        "id": "p26mtn2m2Brx",
        "outputId": "b3d39953-6372-4dff-95c7-9cfed6cf4b18"
      },
      "execution_count": 59,
      "outputs": [
        {
          "output_type": "stream",
          "name": "stdout",
          "text": [
            "olleH\n"
          ]
        }
      ]
    },
    {
      "cell_type": "markdown",
      "source": [
        "\n",
        "**4. Merge Sorted Arrays**\n",
        "\n",
        "\n",
        "```\n",
        "\n",
        "Given two sorted arrays merge them into a single sorted array.\n",
        "\n",
        "Constraints:\n",
        "\n",
        "1. All positive intergers? No, can be negative integers\n",
        "2. Can these be empty? Yes\n",
        "3. Repeated elements? Possible\n",
        "\n",
        "Example Input: [0, 3, 4, 31], [4, 6, 30]\n",
        "Output: [0, 3, 4, 4, 6, 30, 31]\n",
        "\n",
        "\n",
        "\n",
        "\n",
        "\n",
        "```\n",
        "\n",
        "\n",
        "\n",
        "\n"
      ],
      "metadata": {
        "id": "CFNH6aFK4FT5"
      }
    },
    {
      "cell_type": "code",
      "source": [
        "def merge_arr(array1, array2):\n",
        "  result = []\n",
        "  i = 0\n",
        "  j = 0\n",
        "  while (i <len(array1)) and (j <len(array2)):\n",
        "    if array1[i] <=array2[j]:\n",
        "      result.append(array1[i])\n",
        "      i = i+1\n",
        "    else:\n",
        "      result.append(array2[j])\n",
        "      j = j+1\n",
        "\n",
        "  if len(array1)< len(array2):\n",
        "    result.extend(array2[len(array1):])\n",
        "\n",
        "  else:\n",
        "    result.extend(array1[len(array2):])\n",
        "\n",
        "  return result\n",
        "\n",
        "print(merge_arr([0, 3, 4, 31], [4, 6, 30]))"
      ],
      "metadata": {
        "colab": {
          "base_uri": "https://localhost:8080/"
        },
        "id": "bZhlrSbF_zKu",
        "outputId": "fc224536-c7c2-4df5-be92-a31025510cb8"
      },
      "execution_count": 68,
      "outputs": [
        {
          "output_type": "stream",
          "name": "stdout",
          "text": [
            "[0, 3, 4, 4, 6, 30, 31]\n"
          ]
        }
      ]
    },
    {
      "cell_type": "code",
      "source": [],
      "metadata": {
        "id": "ARxg2bZhAIhK"
      },
      "execution_count": null,
      "outputs": []
    }
  ]
}
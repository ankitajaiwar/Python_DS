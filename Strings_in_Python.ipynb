{
  "nbformat": 4,
  "nbformat_minor": 0,
  "metadata": {
    "colab": {
      "provenance": [],
      "authorship_tag": "ABX9TyMOWHPRDb+nSJIlBdV5O3mV",
      "include_colab_link": true
    },
    "kernelspec": {
      "name": "python3",
      "display_name": "Python 3"
    },
    "language_info": {
      "name": "python"
    }
  },
  "cells": [
    {
      "cell_type": "markdown",
      "metadata": {
        "id": "view-in-github",
        "colab_type": "text"
      },
      "source": [
        "<a href=\"https://colab.research.google.com/github/ankitajaiwar/Python_DS/blob/Google-Collab/Strings_in_Python.ipynb\" target=\"_parent\"><img src=\"https://colab.research.google.com/assets/colab-badge.svg\" alt=\"Open In Colab\"/></a>"
      ]
    },
    {
      "cell_type": "markdown",
      "source": [
        "Most Essential Built in String Methods:"
      ],
      "metadata": {
        "id": "8qashCPm9ewI"
      }
    },
    {
      "cell_type": "markdown",
      "source": [
        " **Slicing**"
      ],
      "metadata": {
        "id": "wPmy6_Tg15iI"
      }
    },
    {
      "cell_type": "code",
      "source": [
        "string_1 = \" Hello How are you?\"\n",
        "string_1[0:6]"
      ],
      "metadata": {
        "colab": {
          "base_uri": "https://localhost:8080/",
          "height": 35
        },
        "id": "6m_x6ljy0Lsk",
        "outputId": "d38e7302-4b09-465b-de99-499efdfed972"
      },
      "execution_count": 59,
      "outputs": [
        {
          "output_type": "execute_result",
          "data": {
            "text/plain": [
              "' Hello'"
            ],
            "application/vnd.google.colaboratory.intrinsic+json": {
              "type": "string"
            }
          },
          "metadata": {},
          "execution_count": 59
        }
      ]
    },
    {
      "cell_type": "code",
      "source": [
        "string_1[::-1]"
      ],
      "metadata": {
        "colab": {
          "base_uri": "https://localhost:8080/",
          "height": 35
        },
        "id": "MXPF3U0e0RVF",
        "outputId": "57f72169-ee7b-40d1-95bf-282a6363f3ee"
      },
      "execution_count": 60,
      "outputs": [
        {
          "output_type": "execute_result",
          "data": {
            "text/plain": [
              "'?uoy era woH olleH '"
            ],
            "application/vnd.google.colaboratory.intrinsic+json": {
              "type": "string"
            }
          },
          "metadata": {},
          "execution_count": 60
        }
      ]
    },
    {
      "cell_type": "code",
      "source": [
        "string_1[:-6]"
      ],
      "metadata": {
        "colab": {
          "base_uri": "https://localhost:8080/",
          "height": 35
        },
        "id": "z-B0AfnA0bZU",
        "outputId": "952dbaa0-0710-428f-8caf-de1028efca44"
      },
      "execution_count": 61,
      "outputs": [
        {
          "output_type": "execute_result",
          "data": {
            "text/plain": [
              "' Hello How ar'"
            ],
            "application/vnd.google.colaboratory.intrinsic+json": {
              "type": "string"
            }
          },
          "metadata": {},
          "execution_count": 61
        }
      ]
    },
    {
      "cell_type": "code",
      "source": [
        "string_1[::-2]"
      ],
      "metadata": {
        "colab": {
          "base_uri": "https://localhost:8080/",
          "height": 35
        },
        "id": "EUdhJGyl0ga2",
        "outputId": "928e7a3c-8c55-4a1b-f9dd-737cc29241fc"
      },
      "execution_count": 62,
      "outputs": [
        {
          "output_type": "execute_result",
          "data": {
            "text/plain": [
              "'?o r o le '"
            ],
            "application/vnd.google.colaboratory.intrinsic+json": {
              "type": "string"
            }
          },
          "metadata": {},
          "execution_count": 62
        }
      ]
    },
    {
      "cell_type": "code",
      "source": [
        "string_1[5:]+string_1[:5]"
      ],
      "metadata": {
        "colab": {
          "base_uri": "https://localhost:8080/",
          "height": 35
        },
        "id": "sDzurtsK0jV1",
        "outputId": "41d50339-e9b3-444b-e41c-7698442c9347"
      },
      "execution_count": 63,
      "outputs": [
        {
          "output_type": "execute_result",
          "data": {
            "text/plain": [
              "'o How are you? Hell'"
            ],
            "application/vnd.google.colaboratory.intrinsic+json": {
              "type": "string"
            }
          },
          "metadata": {},
          "execution_count": 63
        }
      ]
    },
    {
      "cell_type": "code",
      "source": [
        "string_2 = \"s      \"\n",
        "string_2 = string_2+string_1+string_2\n",
        "string_2"
      ],
      "metadata": {
        "colab": {
          "base_uri": "https://localhost:8080/",
          "height": 35
        },
        "id": "6UV2mTcM0nYF",
        "outputId": "1d18da35-41c9-45bf-9381-5a266283dba9"
      },
      "execution_count": 64,
      "outputs": [
        {
          "output_type": "execute_result",
          "data": {
            "text/plain": [
              "'s       Hello How are you?s      '"
            ],
            "application/vnd.google.colaboratory.intrinsic+json": {
              "type": "string"
            }
          },
          "metadata": {},
          "execution_count": 64
        }
      ]
    },
    {
      "cell_type": "markdown",
      "source": [
        "Strip"
      ],
      "metadata": {
        "id": "e3JdHtA-2B3O"
      }
    },
    {
      "cell_type": "code",
      "source": [
        "string_2.strip(\" \") # remove leading and trailing whitespaces: Other methods lstrip ( strip from left) or rstrip ( strip from right)\n"
      ],
      "metadata": {
        "colab": {
          "base_uri": "https://localhost:8080/",
          "height": 35
        },
        "id": "jvsqTCEP0r5U",
        "outputId": "28a2eebb-2cdd-49eb-fb73-c82a5cb8f856"
      },
      "execution_count": 65,
      "outputs": [
        {
          "output_type": "execute_result",
          "data": {
            "text/plain": [
              "'s       Hello How are you?s'"
            ],
            "application/vnd.google.colaboratory.intrinsic+json": {
              "type": "string"
            }
          },
          "metadata": {},
          "execution_count": 65
        }
      ]
    },
    {
      "cell_type": "code",
      "source": [
        "string_2.strip('s H?') #remove s, space, H and ? from beginning and end"
      ],
      "metadata": {
        "colab": {
          "base_uri": "https://localhost:8080/",
          "height": 35
        },
        "id": "Nlc5O65r06TU",
        "outputId": "b537faec-7e60-4298-89a0-b2abcc77c0af"
      },
      "execution_count": 66,
      "outputs": [
        {
          "output_type": "execute_result",
          "data": {
            "text/plain": [
              "'ello How are you'"
            ],
            "application/vnd.google.colaboratory.intrinsic+json": {
              "type": "string"
            }
          },
          "metadata": {},
          "execution_count": 66
        }
      ]
    },
    {
      "cell_type": "markdown",
      "source": [
        "There are methods like removeprefix and removesuffix in Python 3.9+\n"
      ],
      "metadata": {
        "id": "DjECZcFW2rlA"
      }
    },
    {
      "cell_type": "markdown",
      "source": [
        "\n",
        "\n",
        "**Replace**"
      ],
      "metadata": {
        "id": "1hnUaN6g1Yak"
      }
    },
    {
      "cell_type": "code",
      "source": [
        "string_1 = \"Prefix_sentence_suffix\"\n",
        "string_1.replace(\"_\", \" \")"
      ],
      "metadata": {
        "colab": {
          "base_uri": "https://localhost:8080/",
          "height": 35
        },
        "id": "SSU233972Krt",
        "outputId": "f72b06ea-4418-41b8-f7d8-25fa838726e7"
      },
      "execution_count": 67,
      "outputs": [
        {
          "output_type": "execute_result",
          "data": {
            "text/plain": [
              "'Prefix sentence suffix'"
            ],
            "application/vnd.google.colaboratory.intrinsic+json": {
              "type": "string"
            }
          },
          "metadata": {},
          "execution_count": 67
        }
      ]
    },
    {
      "cell_type": "code",
      "source": [
        "import re\n",
        "string_1 = \"Prefix_______sentence_suffix\"\n",
        "string_1 = re.sub(\"_+\", \" \", string_1 )\n",
        "string_1"
      ],
      "metadata": {
        "colab": {
          "base_uri": "https://localhost:8080/",
          "height": 35
        },
        "id": "7ECHcUZB2VVk",
        "outputId": "85325273-fd95-41c4-f387-581c46d43f95"
      },
      "execution_count": 68,
      "outputs": [
        {
          "output_type": "execute_result",
          "data": {
            "text/plain": [
              "'Prefix sentence suffix'"
            ],
            "application/vnd.google.colaboratory.intrinsic+json": {
              "type": "string"
            }
          },
          "metadata": {},
          "execution_count": 68
        }
      ]
    },
    {
      "cell_type": "markdown",
      "source": [
        "**Split**"
      ],
      "metadata": {
        "id": "TcYgRpG23xHF"
      }
    },
    {
      "cell_type": "code",
      "source": [
        "string_1.split(\" \")\n",
        "string_1"
      ],
      "metadata": {
        "colab": {
          "base_uri": "https://localhost:8080/",
          "height": 35
        },
        "id": "42CTmjXp3gb0",
        "outputId": "4861f8ae-9ad6-45e6-f571-7dd0feeb3aab"
      },
      "execution_count": 69,
      "outputs": [
        {
          "output_type": "execute_result",
          "data": {
            "text/plain": [
              "'Prefix sentence suffix'"
            ],
            "application/vnd.google.colaboratory.intrinsic+json": {
              "type": "string"
            }
          },
          "metadata": {},
          "execution_count": 69
        }
      ]
    },
    {
      "cell_type": "code",
      "source": [
        "string_1.rsplit(\" \", maxsplit = 1)"
      ],
      "metadata": {
        "colab": {
          "base_uri": "https://localhost:8080/",
          "height": 0
        },
        "id": "wj88jnJx3ma0",
        "outputId": "c0add430-ef87-4649-dd84-0894b66f0000"
      },
      "execution_count": 70,
      "outputs": [
        {
          "output_type": "execute_result",
          "data": {
            "text/plain": [
              "['Prefix sentence', 'suffix']"
            ]
          },
          "metadata": {},
          "execution_count": 70
        }
      ]
    },
    {
      "cell_type": "markdown",
      "source": [
        "Join"
      ],
      "metadata": {
        "id": "JD6scbcw32Bk"
      }
    },
    {
      "cell_type": "code",
      "source": [
        "list_str = [\"This\", \"is\", \"a\", \"list\"]\n",
        "' '.join(list_str)"
      ],
      "metadata": {
        "colab": {
          "base_uri": "https://localhost:8080/",
          "height": 35
        },
        "id": "lAhDIAty4R-F",
        "outputId": "dd404205-618b-4a35-d4bb-b3d5f9c214cf"
      },
      "execution_count": 71,
      "outputs": [
        {
          "output_type": "execute_result",
          "data": {
            "text/plain": [
              "'This is a list'"
            ],
            "application/vnd.google.colaboratory.intrinsic+json": {
              "type": "string"
            }
          },
          "metadata": {},
          "execution_count": 71
        }
      ]
    },
    {
      "cell_type": "markdown",
      "source": [
        "Upper, Lower and Capitalize"
      ],
      "metadata": {
        "id": "4UvJaPmR4rZE"
      }
    },
    {
      "cell_type": "code",
      "source": [
        "string_1.lower()"
      ],
      "metadata": {
        "colab": {
          "base_uri": "https://localhost:8080/",
          "height": 35
        },
        "id": "2q8gU2T14zv1",
        "outputId": "27a59b3c-cce7-483f-c71e-1311cfa49cd3"
      },
      "execution_count": 72,
      "outputs": [
        {
          "output_type": "execute_result",
          "data": {
            "text/plain": [
              "'prefix sentence suffix'"
            ],
            "application/vnd.google.colaboratory.intrinsic+json": {
              "type": "string"
            }
          },
          "metadata": {},
          "execution_count": 72
        }
      ]
    },
    {
      "cell_type": "code",
      "source": [
        "string_1.upper()"
      ],
      "metadata": {
        "colab": {
          "base_uri": "https://localhost:8080/",
          "height": 35
        },
        "id": "63IvcSmR464E",
        "outputId": "04e7db6e-7aaf-4cf0-c324-1e678f3f8d36"
      },
      "execution_count": 73,
      "outputs": [
        {
          "output_type": "execute_result",
          "data": {
            "text/plain": [
              "'PREFIX SENTENCE SUFFIX'"
            ],
            "application/vnd.google.colaboratory.intrinsic+json": {
              "type": "string"
            }
          },
          "metadata": {},
          "execution_count": 73
        }
      ]
    },
    {
      "cell_type": "code",
      "source": [
        "string_1.capitalize()"
      ],
      "metadata": {
        "colab": {
          "base_uri": "https://localhost:8080/",
          "height": 35
        },
        "id": "VEz1o4Xt49qk",
        "outputId": "40fa8ea3-b243-44bb-fdfe-3e5fa3ebc46e"
      },
      "execution_count": 74,
      "outputs": [
        {
          "output_type": "execute_result",
          "data": {
            "text/plain": [
              "'Prefix sentence suffix'"
            ],
            "application/vnd.google.colaboratory.intrinsic+json": {
              "type": "string"
            }
          },
          "metadata": {},
          "execution_count": 74
        }
      ]
    },
    {
      "cell_type": "markdown",
      "source": [
        "Isupper, Uslower, Isalpha, Isnumeric, Isalnum\n",
        "\n"
      ],
      "metadata": {
        "id": "0i0X_5hf5QiW"
      }
    },
    {
      "cell_type": "code",
      "source": [
        "string_1.lower().islower()"
      ],
      "metadata": {
        "colab": {
          "base_uri": "https://localhost:8080/",
          "height": 0
        },
        "id": "9XCNTX9j4_pT",
        "outputId": "e890cc8b-6998-4fb2-f15a-18fb193a92c6"
      },
      "execution_count": 75,
      "outputs": [
        {
          "output_type": "execute_result",
          "data": {
            "text/plain": [
              "True"
            ]
          },
          "metadata": {},
          "execution_count": 75
        }
      ]
    },
    {
      "cell_type": "code",
      "source": [
        "string_1.lower().isupper()"
      ],
      "metadata": {
        "colab": {
          "base_uri": "https://localhost:8080/",
          "height": 0
        },
        "id": "1oda0AJB5HNE",
        "outputId": "d875e5f8-7a8e-4a8a-eb26-fde0caee1e84"
      },
      "execution_count": 76,
      "outputs": [
        {
          "output_type": "execute_result",
          "data": {
            "text/plain": [
              "False"
            ]
          },
          "metadata": {},
          "execution_count": 76
        }
      ]
    },
    {
      "cell_type": "code",
      "source": [
        "string_1.upper().isupper()"
      ],
      "metadata": {
        "colab": {
          "base_uri": "https://localhost:8080/",
          "height": 0
        },
        "id": "u32U0o9O5KJU",
        "outputId": "57d9910c-7b00-47be-f27b-6010aa87c214"
      },
      "execution_count": 77,
      "outputs": [
        {
          "output_type": "execute_result",
          "data": {
            "text/plain": [
              "True"
            ]
          },
          "metadata": {},
          "execution_count": 77
        }
      ]
    },
    {
      "cell_type": "code",
      "source": [
        "string_1.isalpha() # White space and special chars are non alphabetic"
      ],
      "metadata": {
        "colab": {
          "base_uri": "https://localhost:8080/",
          "height": 0
        },
        "id": "zNwildwi5MyT",
        "outputId": "a64bcd40-17dc-4a1b-be9a-6493868076b2"
      },
      "execution_count": 78,
      "outputs": [
        {
          "output_type": "execute_result",
          "data": {
            "text/plain": [
              "False"
            ]
          },
          "metadata": {},
          "execution_count": 78
        }
      ]
    },
    {
      "cell_type": "code",
      "source": [
        "string_1 = string_1.replace(\"_\", \"\")\n",
        "string_1.isalpha()"
      ],
      "metadata": {
        "colab": {
          "base_uri": "https://localhost:8080/",
          "height": 0
        },
        "id": "3q-DBrKH6Aje",
        "outputId": "cb80f776-5e6a-4454-a40f-72337b0d0c47"
      },
      "execution_count": 79,
      "outputs": [
        {
          "output_type": "execute_result",
          "data": {
            "text/plain": [
              "False"
            ]
          },
          "metadata": {},
          "execution_count": 79
        }
      ]
    },
    {
      "cell_type": "code",
      "source": [
        "string_1.isnumeric() # if all numeric"
      ],
      "metadata": {
        "colab": {
          "base_uri": "https://localhost:8080/",
          "height": 0
        },
        "id": "gfsIFvSN5adT",
        "outputId": "1dc06cf4-5c0a-4b5a-f4c1-572b1812c5ba"
      },
      "execution_count": 80,
      "outputs": [
        {
          "output_type": "execute_result",
          "data": {
            "text/plain": [
              "False"
            ]
          },
          "metadata": {},
          "execution_count": 80
        }
      ]
    },
    {
      "cell_type": "code",
      "source": [
        "string_1.isalnum() # either alpha or numeric"
      ],
      "metadata": {
        "colab": {
          "base_uri": "https://localhost:8080/",
          "height": 0
        },
        "id": "NHaTDd265dFy",
        "outputId": "0a641804-4c9b-42e9-e219-6accbe4095fd"
      },
      "execution_count": 81,
      "outputs": [
        {
          "output_type": "execute_result",
          "data": {
            "text/plain": [
              "False"
            ]
          },
          "metadata": {},
          "execution_count": 81
        }
      ]
    },
    {
      "cell_type": "code",
      "source": [
        "string_1"
      ],
      "metadata": {
        "colab": {
          "base_uri": "https://localhost:8080/",
          "height": 35
        },
        "id": "I-HXKFlM9OR4",
        "outputId": "22984f90-d197-4213-8b13-a14755b0e9e8"
      },
      "execution_count": 82,
      "outputs": [
        {
          "output_type": "execute_result",
          "data": {
            "text/plain": [
              "'Prefix sentence suffix'"
            ],
            "application/vnd.google.colaboratory.intrinsic+json": {
              "type": "string"
            }
          },
          "metadata": {},
          "execution_count": 82
        }
      ]
    },
    {
      "cell_type": "markdown",
      "source": [
        "Count"
      ],
      "metadata": {
        "id": "iAG2OATM5e-D"
      }
    },
    {
      "cell_type": "code",
      "source": [
        "string_1.count('f')"
      ],
      "metadata": {
        "colab": {
          "base_uri": "https://localhost:8080/",
          "height": 0
        },
        "id": "TMvp-iVQ6Wno",
        "outputId": "1a2ff269-4d51-45c0-88e4-efc578d41cf8"
      },
      "execution_count": 83,
      "outputs": [
        {
          "output_type": "execute_result",
          "data": {
            "text/plain": [
              "3"
            ]
          },
          "metadata": {},
          "execution_count": 83
        }
      ]
    },
    {
      "cell_type": "code",
      "source": [
        "string_1.count('l')"
      ],
      "metadata": {
        "colab": {
          "base_uri": "https://localhost:8080/",
          "height": 0
        },
        "id": "y3aHqxaf6fEz",
        "outputId": "224bc261-08cf-47b4-c145-918dbdeeed11"
      },
      "execution_count": 84,
      "outputs": [
        {
          "output_type": "execute_result",
          "data": {
            "text/plain": [
              "0"
            ]
          },
          "metadata": {},
          "execution_count": 84
        }
      ]
    },
    {
      "cell_type": "markdown",
      "source": [
        "Find"
      ],
      "metadata": {
        "id": "jp4x5Vlj6idD"
      }
    },
    {
      "cell_type": "code",
      "source": [
        "first_index = string_1.find('f')\n",
        "first_index"
      ],
      "metadata": {
        "colab": {
          "base_uri": "https://localhost:8080/",
          "height": 0
        },
        "id": "wMd6UKgr6mP1",
        "outputId": "fbabf6e2-e6de-4fed-a4da-f8042c0bcb24"
      },
      "execution_count": 85,
      "outputs": [
        {
          "output_type": "execute_result",
          "data": {
            "text/plain": [
              "3"
            ]
          },
          "metadata": {},
          "execution_count": 85
        }
      ]
    },
    {
      "cell_type": "code",
      "source": [
        "second_index = string_1[first_index+1:].find('f')\n",
        "second_index = second_index+first_index+1\n",
        "second_index"
      ],
      "metadata": {
        "colab": {
          "base_uri": "https://localhost:8080/",
          "height": 0
        },
        "id": "V3IX_sXQ8uly",
        "outputId": "590368cd-7f8b-43d4-84d5-84052921b1a9"
      },
      "execution_count": 86,
      "outputs": [
        {
          "output_type": "execute_result",
          "data": {
            "text/plain": [
              "18"
            ]
          },
          "metadata": {},
          "execution_count": 86
        }
      ]
    },
    {
      "cell_type": "code",
      "source": [
        "string_1.find('l')"
      ],
      "metadata": {
        "colab": {
          "base_uri": "https://localhost:8080/",
          "height": 0
        },
        "id": "J7NloxDS87BS",
        "outputId": "d2066591-17ca-49cf-c295-dfdb74749c73"
      },
      "execution_count": 87,
      "outputs": [
        {
          "output_type": "execute_result",
          "data": {
            "text/plain": [
              "-1"
            ]
          },
          "metadata": {},
          "execution_count": 87
        }
      ]
    },
    {
      "cell_type": "code",
      "source": [
        "string_1.rfind('f')"
      ],
      "metadata": {
        "colab": {
          "base_uri": "https://localhost:8080/",
          "height": 0
        },
        "id": "dwnTvFhL9YdS",
        "outputId": "39e7f999-3aac-4509-ce12-6d3af2bb3019"
      },
      "execution_count": 88,
      "outputs": [
        {
          "output_type": "execute_result",
          "data": {
            "text/plain": [
              "19"
            ]
          },
          "metadata": {},
          "execution_count": 88
        }
      ]
    },
    {
      "cell_type": "markdown",
      "source": [
        "**StartsWith and EndsWith**"
      ],
      "metadata": {
        "id": "3DXqwfDt-fVj"
      }
    },
    {
      "cell_type": "code",
      "source": [
        "string_1.startswith(\" \")"
      ],
      "metadata": {
        "colab": {
          "base_uri": "https://localhost:8080/",
          "height": 0
        },
        "id": "b5AUK5TM-rwy",
        "outputId": "b1db29d7-48f7-4752-cbd7-f7a0cef1412d"
      },
      "execution_count": 89,
      "outputs": [
        {
          "output_type": "execute_result",
          "data": {
            "text/plain": [
              "False"
            ]
          },
          "metadata": {},
          "execution_count": 89
        }
      ]
    },
    {
      "cell_type": "code",
      "source": [
        "string_1.startswith(\"p\")"
      ],
      "metadata": {
        "colab": {
          "base_uri": "https://localhost:8080/",
          "height": 0
        },
        "id": "rJDlSuUB-v5R",
        "outputId": "f3478a04-bd91-4656-b061-d91eabbe69f9"
      },
      "execution_count": 90,
      "outputs": [
        {
          "output_type": "execute_result",
          "data": {
            "text/plain": [
              "False"
            ]
          },
          "metadata": {},
          "execution_count": 90
        }
      ]
    },
    {
      "cell_type": "code",
      "source": [
        "string_1.startswith(\"P\")"
      ],
      "metadata": {
        "colab": {
          "base_uri": "https://localhost:8080/",
          "height": 0
        },
        "id": "GfJdiZhN-zIx",
        "outputId": "d1fdec49-8380-4e0e-b27d-e3ed1f916c34"
      },
      "execution_count": 91,
      "outputs": [
        {
          "output_type": "execute_result",
          "data": {
            "text/plain": [
              "True"
            ]
          },
          "metadata": {},
          "execution_count": 91
        }
      ]
    },
    {
      "cell_type": "code",
      "source": [
        "string_1.endswith(\"x\")"
      ],
      "metadata": {
        "colab": {
          "base_uri": "https://localhost:8080/",
          "height": 0
        },
        "id": "2pxYDWwV-2CS",
        "outputId": "20f091ef-49d6-41de-947f-3048c58e3aae"
      },
      "execution_count": 92,
      "outputs": [
        {
          "output_type": "execute_result",
          "data": {
            "text/plain": [
              "True"
            ]
          },
          "metadata": {},
          "execution_count": 92
        }
      ]
    },
    {
      "cell_type": "markdown",
      "source": [
        "Partition"
      ],
      "metadata": {
        "id": "rBJqeFUk-4OC"
      }
    },
    {
      "cell_type": "code",
      "source": [
        "string_1"
      ],
      "metadata": {
        "colab": {
          "base_uri": "https://localhost:8080/",
          "height": 35
        },
        "id": "EPm7ZX21-9o0",
        "outputId": "845e9fe9-c35f-4614-a11c-7a8612c69ef5"
      },
      "execution_count": 93,
      "outputs": [
        {
          "output_type": "execute_result",
          "data": {
            "text/plain": [
              "'Prefix sentence suffix'"
            ],
            "application/vnd.google.colaboratory.intrinsic+json": {
              "type": "string"
            }
          },
          "metadata": {},
          "execution_count": 93
        }
      ]
    },
    {
      "cell_type": "code",
      "source": [
        "string_1.partition(\"x\") # partitions at the first occurrence and returns tuple of size 3, if doesnt find the substring returns the entire string as first element of the tuple and the other two are empty"
      ],
      "metadata": {
        "colab": {
          "base_uri": "https://localhost:8080/",
          "height": 0
        },
        "id": "8XVXffFj_D8i",
        "outputId": "11dbc872-9038-4386-fd04-bc512851e7aa"
      },
      "execution_count": 94,
      "outputs": [
        {
          "output_type": "execute_result",
          "data": {
            "text/plain": [
              "('Prefi', 'x', ' sentence suffix')"
            ]
          },
          "metadata": {},
          "execution_count": 94
        }
      ]
    },
    {
      "cell_type": "markdown",
      "source": [
        "**Center, Ljust and Rjust**\n"
      ],
      "metadata": {
        "id": "kMWx72yD_HpC"
      }
    },
    {
      "cell_type": "code",
      "source": [
        "string_1.center(50, \"-\")"
      ],
      "metadata": {
        "colab": {
          "base_uri": "https://localhost:8080/",
          "height": 35
        },
        "id": "IGazx3qJ_gIi",
        "outputId": "ce6f6f0e-584b-4007-b6dd-ecf1a86849ec"
      },
      "execution_count": 95,
      "outputs": [
        {
          "output_type": "execute_result",
          "data": {
            "text/plain": [
              "'--------------Prefix sentence suffix--------------'"
            ],
            "application/vnd.google.colaboratory.intrinsic+json": {
              "type": "string"
            }
          },
          "metadata": {},
          "execution_count": 95
        }
      ]
    },
    {
      "cell_type": "code",
      "source": [
        "string_1.ljust(50, \"-\")"
      ],
      "metadata": {
        "colab": {
          "base_uri": "https://localhost:8080/",
          "height": 35
        },
        "id": "3FbwnIWM_kGS",
        "outputId": "479f728e-948d-4bec-ff51-0fb388c455bf"
      },
      "execution_count": 96,
      "outputs": [
        {
          "output_type": "execute_result",
          "data": {
            "text/plain": [
              "'Prefix sentence suffix----------------------------'"
            ],
            "application/vnd.google.colaboratory.intrinsic+json": {
              "type": "string"
            }
          },
          "metadata": {},
          "execution_count": 96
        }
      ]
    },
    {
      "cell_type": "code",
      "source": [
        "string_1.rjust(50, \"-\")"
      ],
      "metadata": {
        "colab": {
          "base_uri": "https://localhost:8080/",
          "height": 35
        },
        "id": "pb2qf_iU_t3C",
        "outputId": "cadf1880-d03f-4de0-cdeb-bbec682fc0f3"
      },
      "execution_count": 97,
      "outputs": [
        {
          "output_type": "execute_result",
          "data": {
            "text/plain": [
              "'----------------------------Prefix sentence suffix'"
            ],
            "application/vnd.google.colaboratory.intrinsic+json": {
              "type": "string"
            }
          },
          "metadata": {},
          "execution_count": 97
        }
      ]
    },
    {
      "cell_type": "markdown",
      "source": [
        "F Strings\n"
      ],
      "metadata": {
        "id": "MFKo4i6x_0Zx"
      }
    },
    {
      "cell_type": "code",
      "source": [
        "what = \"what\"\n",
        "are = \"are you\"\n",
        "string = f'{what} {are} doing?'\n",
        "string"
      ],
      "metadata": {
        "colab": {
          "base_uri": "https://localhost:8080/",
          "height": 35
        },
        "id": "f4UkGSoxADJz",
        "outputId": "239f3a10-ca3f-4379-9645-65bca6ce6375"
      },
      "execution_count": 98,
      "outputs": [
        {
          "output_type": "execute_result",
          "data": {
            "text/plain": [
              "'what are you doing?'"
            ],
            "application/vnd.google.colaboratory.intrinsic+json": {
              "type": "string"
            }
          },
          "metadata": {},
          "execution_count": 98
        }
      ]
    },
    {
      "cell_type": "code",
      "source": [
        "string = f'{what} {are*2} doing?'\n",
        "string"
      ],
      "metadata": {
        "colab": {
          "base_uri": "https://localhost:8080/",
          "height": 35
        },
        "id": "2_VYkUjWAScB",
        "outputId": "56360472-8f68-4ed2-969f-c0dae91da11a"
      },
      "execution_count": 99,
      "outputs": [
        {
          "output_type": "execute_result",
          "data": {
            "text/plain": [
              "'what are youare you doing?'"
            ],
            "application/vnd.google.colaboratory.intrinsic+json": {
              "type": "string"
            }
          },
          "metadata": {},
          "execution_count": 99
        }
      ]
    },
    {
      "cell_type": "markdown",
      "source": [
        "**SwapCase**\n"
      ],
      "metadata": {
        "id": "PcK0jTWDAZhR"
      }
    },
    {
      "cell_type": "code",
      "source": [
        "string = \"HELLO World\""
      ],
      "metadata": {
        "id": "oD0kyryuAmGC"
      },
      "execution_count": 100,
      "outputs": []
    },
    {
      "cell_type": "code",
      "source": [
        "string.swapcase()"
      ],
      "metadata": {
        "colab": {
          "base_uri": "https://localhost:8080/",
          "height": 35
        },
        "id": "SbctABBuAn7h",
        "outputId": "b5138905-460c-48ea-e928-ab210ea163b1"
      },
      "execution_count": 101,
      "outputs": [
        {
          "output_type": "execute_result",
          "data": {
            "text/plain": [
              "'hello wORLD'"
            ],
            "application/vnd.google.colaboratory.intrinsic+json": {
              "type": "string"
            }
          },
          "metadata": {},
          "execution_count": 101
        }
      ]
    },
    {
      "cell_type": "markdown",
      "source": [
        "**Zfill**"
      ],
      "metadata": {
        "id": "6FeTCE5RAphx"
      }
    },
    {
      "cell_type": "code",
      "source": [
        "string_1 = '-25'"
      ],
      "metadata": {
        "id": "5DQfqjViAvFi"
      },
      "execution_count": 102,
      "outputs": []
    },
    {
      "cell_type": "code",
      "source": [
        "string_1.zfill(5) #retains the sign"
      ],
      "metadata": {
        "colab": {
          "base_uri": "https://localhost:8080/",
          "height": 35
        },
        "id": "9PApL9oVA7Ux",
        "outputId": "1ab7a03d-0e93-4830-bc89-74d1bff5c74e"
      },
      "execution_count": 103,
      "outputs": [
        {
          "output_type": "execute_result",
          "data": {
            "text/plain": [
              "'-0025'"
            ],
            "application/vnd.google.colaboratory.intrinsic+json": {
              "type": "string"
            }
          },
          "metadata": {},
          "execution_count": 103
        }
      ]
    },
    {
      "cell_type": "markdown",
      "source": [
        " Source: https://www.youtube.com/watch?v=HJpiAZDJrRY&ab_channel=PatrickLoeber"
      ],
      "metadata": {
        "id": "iaF-PswIA-Yh"
      }
    },
    {
      "cell_type": "markdown",
      "source": [
        "Q1. Typed Out Strings\n",
        "\n",
        "```\n",
        "\n",
        "Given two strings return if they are equal when typed out. Any # is considered as backspace.\n",
        "\n",
        "Example: Input 'Hello#World', 'HelloWorld\n",
        "Output False\n",
        "\n",
        "Reasoning: When typed out both strings will be 'HellWorld' and 'HelloWorld' respectively\n",
        "\n",
        "```\n",
        "\n",
        "Constraints: Can the strings be empty?\n",
        "\n",
        "Can there only be just a # in the string?\n",
        "\n",
        "What happens to string when there is nothing left to delete? Nothing, just like with backspace"
      ],
      "metadata": {
        "id": "PvitXEBFBPaR"
      }
    },
    {
      "cell_type": "code",
      "source": [
        "\n",
        "def typedout(string1):\n",
        "  i = 0\n",
        "  while i < len(string1):\n",
        "    \n",
        "    if (string1[i] == '#') and (i >0) and i < (len(string1)-1):\n",
        "      print(i)\n",
        "      string1 = string1[:i-1]+string1[i+1:]\n",
        "\n",
        "    elif (string1[i] == \"#\") and (i == 0):\n",
        "      string1 = string1[i+1:]\n",
        "\n",
        "    elif (string1[i] == \"#\") and (i == len(string1)):\n",
        "      string1 = string1[:i-1]\n",
        "    i = i+1\n",
        "\n",
        "  return string1\n",
        "\n",
        "def isequal( string1, string2):\n",
        "  \n",
        "  string1 = typedout(string1)\n",
        "  string2 = typedout(string2)\n",
        "  print(string1)\n",
        "  print(string2)\n",
        "\n",
        "  \n",
        "  if string1 == string2: # case sensitivity matter\n",
        "    return True\n",
        "  else:\n",
        "    return False\n"
      ],
      "metadata": {
        "id": "ot56oV3tBy5k"
      },
      "execution_count": 104,
      "outputs": []
    },
    {
      "cell_type": "code",
      "source": [
        "print(isequal(\"Hello#World\", \"HellWorld\"))"
      ],
      "metadata": {
        "colab": {
          "base_uri": "https://localhost:8080/",
          "height": 0
        },
        "id": "uYJ85vg_DVKu",
        "outputId": "2d8978f4-6a79-40f2-e0a7-0f8afa72fa22"
      },
      "execution_count": 105,
      "outputs": [
        {
          "output_type": "stream",
          "name": "stdout",
          "text": [
            "5\n",
            "HellWorld\n",
            "HellWorld\n",
            "True\n"
          ]
        }
      ]
    },
    {
      "cell_type": "code",
      "source": [
        "print(isequal(\"#HelloWorld\", \"HelloWorld\"))"
      ],
      "metadata": {
        "colab": {
          "base_uri": "https://localhost:8080/",
          "height": 0
        },
        "id": "3GIGkbU2Dv5B",
        "outputId": "3c591275-24d8-4119-a46d-7d33d248db4e"
      },
      "execution_count": 106,
      "outputs": [
        {
          "output_type": "stream",
          "name": "stdout",
          "text": [
            "HelloWorld\n",
            "HelloWorld\n",
            "True\n"
          ]
        }
      ]
    },
    {
      "cell_type": "markdown",
      "source": [
        "**Q2. Longest Substring Without Repeating characters**\n",
        "\n",
        "\n",
        "\n",
        "```\n",
        "Given a string fing the length of the longest substring without repeating characters.\n",
        "\n",
        "Substring vs Subsequence:\n",
        "\n",
        "substring: no breaks between them, coniguous, side by side and sequential\n",
        "\n",
        "subsequence: there can be a break, doesnt have to contiguous\n",
        "```\n",
        "\n"
      ],
      "metadata": {
        "id": "RT81905gFEtR"
      }
    },
    {
      "cell_type": "code",
      "source": [
        "def longest_substring(string):\n",
        "\n",
        "  d = {}\n",
        "  max_len = 0\n",
        "  i = 0\n",
        "  count_len = 0\n",
        "  while i < len(string):\n",
        "    if string[i] not in d:\n",
        "      d[string[i]] = i\n",
        "      count_len +=1\n",
        "    else:\n",
        "      if count_len > max_len:\n",
        "        max_len = count_len\n",
        "        count_len = 0\n",
        "        d = {}\n",
        "    i = i+1\n",
        "  if count_len > max_len:\n",
        "    max_len = count_len\n",
        "  return max_len\n",
        "      \n",
        "\n",
        " #Solution's time complexity O(n)\n",
        " #Space complexity O(n)     \n",
        "\n",
        "\n"
      ],
      "metadata": {
        "id": "Loow0UKHNzqo"
      },
      "execution_count": 107,
      "outputs": []
    },
    {
      "cell_type": "code",
      "source": [
        "print(longest_substring(\"HelloWorld\"))"
      ],
      "metadata": {
        "colab": {
          "base_uri": "https://localhost:8080/",
          "height": 0
        },
        "id": "jx4wFVOKOlrv",
        "outputId": "f9e9ede7-7179-468a-cef1-0cde0b041258"
      },
      "execution_count": 108,
      "outputs": [
        {
          "output_type": "stream",
          "name": "stdout",
          "text": [
            "5\n"
          ]
        }
      ]
    },
    {
      "cell_type": "markdown",
      "source": [
        "**Q3. Valid Palindrome and almost palindrome**\n",
        "\n",
        "Ignore all special characters, not case sensitive"
      ],
      "metadata": {
        "id": "afv4XU8dOvhO"
      }
    },
    {
      "cell_type": "code",
      "source": [
        "def ispalindrome(string):\n",
        "  string=\"\".join(ch for ch in string if ch.isalnum())\n",
        "# print the normal string \n",
        "  string = string.lower()\n",
        "  if string == string[::-1]:\n",
        "    return True\n",
        "  else:\n",
        "    return False"
      ],
      "metadata": {
        "id": "e4lsZmAQQtVg"
      },
      "execution_count": 117,
      "outputs": []
    },
    {
      "cell_type": "code",
      "source": [
        "print(ispalindrome(\"A man, a plan, a canal, Panama\"))"
      ],
      "metadata": {
        "colab": {
          "base_uri": "https://localhost:8080/"
        },
        "id": "j1X3jqb0UQVN",
        "outputId": "d03f73dc-cfe0-4ca4-af9d-eb35b0deb6c4"
      },
      "execution_count": 118,
      "outputs": [
        {
          "output_type": "stream",
          "name": "stdout",
          "text": [
            "True\n"
          ]
        }
      ]
    },
    {
      "cell_type": "markdown",
      "source": [
        "\n",
        "\n",
        "```\n",
        "Given a string, determine if it is almost a palindrome, a string is almost a palindrome if it becomes palindrome by removing a character.\n",
        "```\n",
        "\n"
      ],
      "metadata": {
        "id": "z4HfqbXiVCIN"
      }
    },
    {
      "cell_type": "code",
      "source": [
        "\n",
        "\n",
        "def almost_palindrome(string):\n",
        "\n",
        "  i = 0\n",
        "  j = len(string)-1\n",
        "\n",
        "  while i < j:\n",
        "    if string[i] == string[j]:\n",
        "      i += 1\n",
        "      j -= 1\n",
        "\n",
        "    else:\n",
        "      print(string[:i]+string[i+1:])\n",
        "      check_pal_1 = ispalindrome(string[:i]+string[i+1:])\n",
        "      print(string[:j]+string[j+1:])\n",
        "      check_pal_2 = ispalindrome(string[:j]+string[j+1:])\n",
        "\n",
        "      if check_pal_1 or check_pal_2:\n",
        "        return True\n",
        "\n",
        "      else: \n",
        "        return False\n",
        "\n",
        "  return True\n",
        "\n",
        "\n",
        "\n"
      ],
      "metadata": {
        "id": "fmAHctWqVjF8"
      },
      "execution_count": 137,
      "outputs": []
    },
    {
      "cell_type": "code",
      "source": [
        "print(almost_palindrome(\"abccdba\"))"
      ],
      "metadata": {
        "colab": {
          "base_uri": "https://localhost:8080/"
        },
        "id": "PGJhGYmXajZ7",
        "outputId": "09f3865b-84ae-4448-aa29-6b67b8f02b2f"
      },
      "execution_count": 138,
      "outputs": [
        {
          "output_type": "stream",
          "name": "stdout",
          "text": [
            "abcdba\n",
            "abccba\n",
            "True\n"
          ]
        }
      ]
    },
    {
      "cell_type": "code",
      "source": [],
      "metadata": {
        "id": "rzdJtA4tas77"
      },
      "execution_count": null,
      "outputs": []
    }
  ]
}
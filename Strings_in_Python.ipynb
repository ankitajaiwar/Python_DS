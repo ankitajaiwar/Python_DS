{
  "nbformat": 4,
  "nbformat_minor": 0,
  "metadata": {
    "colab": {
      "provenance": [],
      "authorship_tag": "ABX9TyNokaZPzjzTA8vM/JMUstdM",
      "include_colab_link": true
    },
    "kernelspec": {
      "name": "python3",
      "display_name": "Python 3"
    },
    "language_info": {
      "name": "python"
    }
  },
  "cells": [
    {
      "cell_type": "markdown",
      "metadata": {
        "id": "view-in-github",
        "colab_type": "text"
      },
      "source": [
        "<a href=\"https://colab.research.google.com/github/ankitajaiwar/Python_DS/blob/main/Strings_in_Python.ipynb\" target=\"_parent\"><img src=\"https://colab.research.google.com/assets/colab-badge.svg\" alt=\"Open In Colab\"/></a>"
      ]
    },
    {
      "cell_type": "markdown",
      "source": [
        "Most Essential Built in String Methods:"
      ],
      "metadata": {
        "id": "8qashCPm9ewI"
      }
    },
    {
      "cell_type": "markdown",
      "source": [
        " **Slicing**"
      ],
      "metadata": {
        "id": "wPmy6_Tg15iI"
      }
    },
    {
      "cell_type": "code",
      "source": [
        "string_1 = \" Hello How are you?\"\n",
        "string_1[0:6]"
      ],
      "metadata": {
        "colab": {
          "base_uri": "https://localhost:8080/",
          "height": 35
        },
        "id": "6m_x6ljy0Lsk",
        "outputId": "920728e6-f086-453d-81f9-5ea82af3fd7d"
      },
      "execution_count": 4,
      "outputs": [
        {
          "output_type": "execute_result",
          "data": {
            "text/plain": [
              "' Hello'"
            ],
            "application/vnd.google.colaboratory.intrinsic+json": {
              "type": "string"
            }
          },
          "metadata": {},
          "execution_count": 4
        }
      ]
    },
    {
      "cell_type": "code",
      "source": [
        "string_1[::-1]"
      ],
      "metadata": {
        "colab": {
          "base_uri": "https://localhost:8080/",
          "height": 35
        },
        "id": "MXPF3U0e0RVF",
        "outputId": "aed83fc4-842a-44a5-e2b7-b437e4df50a0"
      },
      "execution_count": 6,
      "outputs": [
        {
          "output_type": "execute_result",
          "data": {
            "text/plain": [
              "'?uoy era woH olleH '"
            ],
            "application/vnd.google.colaboratory.intrinsic+json": {
              "type": "string"
            }
          },
          "metadata": {},
          "execution_count": 6
        }
      ]
    },
    {
      "cell_type": "code",
      "source": [
        "string_1[:-6]"
      ],
      "metadata": {
        "colab": {
          "base_uri": "https://localhost:8080/",
          "height": 35
        },
        "id": "z-B0AfnA0bZU",
        "outputId": "e9ec8939-d3bd-4a2a-d0d8-ded274c2a5b9"
      },
      "execution_count": 7,
      "outputs": [
        {
          "output_type": "execute_result",
          "data": {
            "text/plain": [
              "' Hello How ar'"
            ],
            "application/vnd.google.colaboratory.intrinsic+json": {
              "type": "string"
            }
          },
          "metadata": {},
          "execution_count": 7
        }
      ]
    },
    {
      "cell_type": "code",
      "source": [
        "string_1[::-2]"
      ],
      "metadata": {
        "colab": {
          "base_uri": "https://localhost:8080/",
          "height": 35
        },
        "id": "EUdhJGyl0ga2",
        "outputId": "40dde989-40b7-44b7-cbfa-c57fff3e6bc1"
      },
      "execution_count": 8,
      "outputs": [
        {
          "output_type": "execute_result",
          "data": {
            "text/plain": [
              "'?o r o le '"
            ],
            "application/vnd.google.colaboratory.intrinsic+json": {
              "type": "string"
            }
          },
          "metadata": {},
          "execution_count": 8
        }
      ]
    },
    {
      "cell_type": "code",
      "source": [
        "string_1[5:]+string_1[:5]"
      ],
      "metadata": {
        "colab": {
          "base_uri": "https://localhost:8080/",
          "height": 35
        },
        "id": "sDzurtsK0jV1",
        "outputId": "143c9da1-6aa7-4e79-e1ef-cc2f17cc25f8"
      },
      "execution_count": 9,
      "outputs": [
        {
          "output_type": "execute_result",
          "data": {
            "text/plain": [
              "'o How are you? Hell'"
            ],
            "application/vnd.google.colaboratory.intrinsic+json": {
              "type": "string"
            }
          },
          "metadata": {},
          "execution_count": 9
        }
      ]
    },
    {
      "cell_type": "code",
      "source": [
        "string_2 = \"s      \"\n",
        "string_2 = string_2+string_1+string_2\n",
        "string_2"
      ],
      "metadata": {
        "colab": {
          "base_uri": "https://localhost:8080/",
          "height": 35
        },
        "id": "6UV2mTcM0nYF",
        "outputId": "a1096b21-c5b8-412a-cf99-d4913a87b25a"
      },
      "execution_count": 15,
      "outputs": [
        {
          "output_type": "execute_result",
          "data": {
            "text/plain": [
              "'s       Hello How are you?s      '"
            ],
            "application/vnd.google.colaboratory.intrinsic+json": {
              "type": "string"
            }
          },
          "metadata": {},
          "execution_count": 15
        }
      ]
    },
    {
      "cell_type": "markdown",
      "source": [
        "Strip"
      ],
      "metadata": {
        "id": "e3JdHtA-2B3O"
      }
    },
    {
      "cell_type": "code",
      "source": [
        "string_2.strip(\" \") # remove leading and trailing whitespaces: Other methods lstrip ( strip from left) or rstrip ( strip from right)\n"
      ],
      "metadata": {
        "colab": {
          "base_uri": "https://localhost:8080/",
          "height": 35
        },
        "id": "jvsqTCEP0r5U",
        "outputId": "b65bd432-c96c-4974-abe3-a391bfebd097"
      },
      "execution_count": 16,
      "outputs": [
        {
          "output_type": "execute_result",
          "data": {
            "text/plain": [
              "'s       Hello How are you?s'"
            ],
            "application/vnd.google.colaboratory.intrinsic+json": {
              "type": "string"
            }
          },
          "metadata": {},
          "execution_count": 16
        }
      ]
    },
    {
      "cell_type": "code",
      "source": [
        "string_2.strip('s H?') #remove s, space, H and ? from beginning and end"
      ],
      "metadata": {
        "colab": {
          "base_uri": "https://localhost:8080/",
          "height": 35
        },
        "id": "Nlc5O65r06TU",
        "outputId": "d740056b-8816-4048-adbe-a8193337ebe5"
      },
      "execution_count": 20,
      "outputs": [
        {
          "output_type": "execute_result",
          "data": {
            "text/plain": [
              "'ello How are you'"
            ],
            "application/vnd.google.colaboratory.intrinsic+json": {
              "type": "string"
            }
          },
          "metadata": {},
          "execution_count": 20
        }
      ]
    },
    {
      "cell_type": "markdown",
      "source": [
        "There are methods like removeprefix and removesuffix in Python 3.9+\n"
      ],
      "metadata": {
        "id": "DjECZcFW2rlA"
      }
    },
    {
      "cell_type": "markdown",
      "source": [
        "\n",
        "\n",
        "**Replace**"
      ],
      "metadata": {
        "id": "1hnUaN6g1Yak"
      }
    },
    {
      "cell_type": "code",
      "source": [
        "string_1 = \"Prefix_sentence_suffix\"\n",
        "string_1.replace(\"_\", \" \")"
      ],
      "metadata": {
        "colab": {
          "base_uri": "https://localhost:8080/",
          "height": 35
        },
        "id": "SSU233972Krt",
        "outputId": "7dc75d70-862a-4f70-c4a9-f50aa25ad1a5"
      },
      "execution_count": 51,
      "outputs": [
        {
          "output_type": "execute_result",
          "data": {
            "text/plain": [
              "'Prefix sentence suffix'"
            ],
            "application/vnd.google.colaboratory.intrinsic+json": {
              "type": "string"
            }
          },
          "metadata": {},
          "execution_count": 51
        }
      ]
    },
    {
      "cell_type": "code",
      "source": [
        "import re\n",
        "string_1 = \"Prefix_______sentence_suffix\"\n",
        "string_1 = re.sub(\"_+\", \" \", string_1 )\n",
        "string_1"
      ],
      "metadata": {
        "colab": {
          "base_uri": "https://localhost:8080/",
          "height": 35
        },
        "id": "7ECHcUZB2VVk",
        "outputId": "ea0f6644-b66f-4974-86d9-f1f82737df84"
      },
      "execution_count": 25,
      "outputs": [
        {
          "output_type": "execute_result",
          "data": {
            "text/plain": [
              "'Prefix sentence suffix'"
            ],
            "application/vnd.google.colaboratory.intrinsic+json": {
              "type": "string"
            }
          },
          "metadata": {},
          "execution_count": 25
        }
      ]
    },
    {
      "cell_type": "markdown",
      "source": [
        "**Split**"
      ],
      "metadata": {
        "id": "TcYgRpG23xHF"
      }
    },
    {
      "cell_type": "code",
      "source": [
        "string_1.split(\" \")\n",
        "string_1"
      ],
      "metadata": {
        "colab": {
          "base_uri": "https://localhost:8080/",
          "height": 35
        },
        "id": "42CTmjXp3gb0",
        "outputId": "8a027570-a919-47d9-cb22-e8a0f5bd47ec"
      },
      "execution_count": 29,
      "outputs": [
        {
          "output_type": "execute_result",
          "data": {
            "text/plain": [
              "'Prefix sentence suffix'"
            ],
            "application/vnd.google.colaboratory.intrinsic+json": {
              "type": "string"
            }
          },
          "metadata": {},
          "execution_count": 29
        }
      ]
    },
    {
      "cell_type": "code",
      "source": [
        "string_1.rsplit(\" \", maxsplit = 1)"
      ],
      "metadata": {
        "colab": {
          "base_uri": "https://localhost:8080/"
        },
        "id": "wj88jnJx3ma0",
        "outputId": "2ca69d27-4023-4a1f-eb3e-c41463b139a9"
      },
      "execution_count": 33,
      "outputs": [
        {
          "output_type": "execute_result",
          "data": {
            "text/plain": [
              "['Prefix sentence', 'suffix']"
            ]
          },
          "metadata": {},
          "execution_count": 33
        }
      ]
    },
    {
      "cell_type": "markdown",
      "source": [
        "Join"
      ],
      "metadata": {
        "id": "JD6scbcw32Bk"
      }
    },
    {
      "cell_type": "code",
      "source": [
        "list_str = [\"This\", \"is\", \"a\", \"list\"]\n",
        "' '.join(list_str)"
      ],
      "metadata": {
        "colab": {
          "base_uri": "https://localhost:8080/",
          "height": 35
        },
        "id": "lAhDIAty4R-F",
        "outputId": "1fb27ffc-2120-4305-a54b-6c82b19c4988"
      },
      "execution_count": 34,
      "outputs": [
        {
          "output_type": "execute_result",
          "data": {
            "text/plain": [
              "'This is a list'"
            ],
            "application/vnd.google.colaboratory.intrinsic+json": {
              "type": "string"
            }
          },
          "metadata": {},
          "execution_count": 34
        }
      ]
    },
    {
      "cell_type": "markdown",
      "source": [
        "Upper, Lower and Capitalize"
      ],
      "metadata": {
        "id": "4UvJaPmR4rZE"
      }
    },
    {
      "cell_type": "code",
      "source": [
        "string_1.lower()"
      ],
      "metadata": {
        "colab": {
          "base_uri": "https://localhost:8080/",
          "height": 35
        },
        "id": "2q8gU2T14zv1",
        "outputId": "77c31144-77cc-4585-a114-d6b56ec87d2d"
      },
      "execution_count": 36,
      "outputs": [
        {
          "output_type": "execute_result",
          "data": {
            "text/plain": [
              "'prefix sentence suffix'"
            ],
            "application/vnd.google.colaboratory.intrinsic+json": {
              "type": "string"
            }
          },
          "metadata": {},
          "execution_count": 36
        }
      ]
    },
    {
      "cell_type": "code",
      "source": [
        "string_1.upper()"
      ],
      "metadata": {
        "colab": {
          "base_uri": "https://localhost:8080/",
          "height": 35
        },
        "id": "63IvcSmR464E",
        "outputId": "59ea9b7b-d6e0-41b1-88bb-f19f9264c176"
      },
      "execution_count": 37,
      "outputs": [
        {
          "output_type": "execute_result",
          "data": {
            "text/plain": [
              "'PREFIX SENTENCE SUFFIX'"
            ],
            "application/vnd.google.colaboratory.intrinsic+json": {
              "type": "string"
            }
          },
          "metadata": {},
          "execution_count": 37
        }
      ]
    },
    {
      "cell_type": "code",
      "source": [
        "string_1.capitalize()"
      ],
      "metadata": {
        "colab": {
          "base_uri": "https://localhost:8080/",
          "height": 35
        },
        "id": "VEz1o4Xt49qk",
        "outputId": "a1a90d36-2022-492b-b943-3caca51b8433"
      },
      "execution_count": 38,
      "outputs": [
        {
          "output_type": "execute_result",
          "data": {
            "text/plain": [
              "'Prefix sentence suffix'"
            ],
            "application/vnd.google.colaboratory.intrinsic+json": {
              "type": "string"
            }
          },
          "metadata": {},
          "execution_count": 38
        }
      ]
    },
    {
      "cell_type": "markdown",
      "source": [
        "Isupper, Uslower, Isalpha, Isnumeric, Isalnum\n",
        "\n"
      ],
      "metadata": {
        "id": "0i0X_5hf5QiW"
      }
    },
    {
      "cell_type": "code",
      "source": [
        "string_1.lower().islower()"
      ],
      "metadata": {
        "colab": {
          "base_uri": "https://localhost:8080/"
        },
        "id": "9XCNTX9j4_pT",
        "outputId": "10ceaaf2-e661-4e68-c89b-b7fd6bef0f42"
      },
      "execution_count": 39,
      "outputs": [
        {
          "output_type": "execute_result",
          "data": {
            "text/plain": [
              "True"
            ]
          },
          "metadata": {},
          "execution_count": 39
        }
      ]
    },
    {
      "cell_type": "code",
      "source": [
        "string_1.lower().isupper()"
      ],
      "metadata": {
        "colab": {
          "base_uri": "https://localhost:8080/"
        },
        "id": "1oda0AJB5HNE",
        "outputId": "17684eb4-04d9-467e-af5c-0a0133326c09"
      },
      "execution_count": 40,
      "outputs": [
        {
          "output_type": "execute_result",
          "data": {
            "text/plain": [
              "False"
            ]
          },
          "metadata": {},
          "execution_count": 40
        }
      ]
    },
    {
      "cell_type": "code",
      "source": [
        "string_1.upper().isupper()"
      ],
      "metadata": {
        "colab": {
          "base_uri": "https://localhost:8080/"
        },
        "id": "u32U0o9O5KJU",
        "outputId": "d7884583-559a-422d-98ee-c0b7404b13f3"
      },
      "execution_count": 41,
      "outputs": [
        {
          "output_type": "execute_result",
          "data": {
            "text/plain": [
              "True"
            ]
          },
          "metadata": {},
          "execution_count": 41
        }
      ]
    },
    {
      "cell_type": "code",
      "source": [
        "string_1.isalpha() # White space and special chars are non alphabetic"
      ],
      "metadata": {
        "colab": {
          "base_uri": "https://localhost:8080/"
        },
        "id": "zNwildwi5MyT",
        "outputId": "a1ad63ba-4295-455f-ab10-4c1573c41baf"
      },
      "execution_count": 55,
      "outputs": [
        {
          "output_type": "execute_result",
          "data": {
            "text/plain": [
              "False"
            ]
          },
          "metadata": {},
          "execution_count": 55
        }
      ]
    },
    {
      "cell_type": "code",
      "source": [
        "string_1 = string_1.replace(\"_\", \"\")\n",
        "string_1.isalpha()"
      ],
      "metadata": {
        "colab": {
          "base_uri": "https://localhost:8080/"
        },
        "id": "3q-DBrKH6Aje",
        "outputId": "390649e8-e730-48a4-c2f1-1ff393b3291c"
      },
      "execution_count": 57,
      "outputs": [
        {
          "output_type": "execute_result",
          "data": {
            "text/plain": [
              "True"
            ]
          },
          "metadata": {},
          "execution_count": 57
        }
      ]
    },
    {
      "cell_type": "code",
      "source": [
        "string_1.isnumeric() # if all numeric"
      ],
      "metadata": {
        "colab": {
          "base_uri": "https://localhost:8080/"
        },
        "id": "gfsIFvSN5adT",
        "outputId": "3e7b0700-4612-408c-bfab-f2b9e4b775be"
      },
      "execution_count": 58,
      "outputs": [
        {
          "output_type": "execute_result",
          "data": {
            "text/plain": [
              "False"
            ]
          },
          "metadata": {},
          "execution_count": 58
        }
      ]
    },
    {
      "cell_type": "code",
      "source": [
        "string_1.isalnum() # either alpha or numeric"
      ],
      "metadata": {
        "colab": {
          "base_uri": "https://localhost:8080/"
        },
        "id": "NHaTDd265dFy",
        "outputId": "a54ae88b-1dc0-465f-9d39-fc5ce3a1176a"
      },
      "execution_count": 60,
      "outputs": [
        {
          "output_type": "execute_result",
          "data": {
            "text/plain": [
              "True"
            ]
          },
          "metadata": {},
          "execution_count": 60
        }
      ]
    },
    {
      "cell_type": "code",
      "source": [
        "string_1"
      ],
      "metadata": {
        "colab": {
          "base_uri": "https://localhost:8080/",
          "height": 35
        },
        "id": "I-HXKFlM9OR4",
        "outputId": "9c151d66-8b71-45bb-e156-b359bb09f707"
      },
      "execution_count": 71,
      "outputs": [
        {
          "output_type": "execute_result",
          "data": {
            "text/plain": [
              "'Prefixsentencesuffix'"
            ],
            "application/vnd.google.colaboratory.intrinsic+json": {
              "type": "string"
            }
          },
          "metadata": {},
          "execution_count": 71
        }
      ]
    },
    {
      "cell_type": "markdown",
      "source": [
        "Count"
      ],
      "metadata": {
        "id": "iAG2OATM5e-D"
      }
    },
    {
      "cell_type": "code",
      "source": [
        "string_1.count('f')"
      ],
      "metadata": {
        "colab": {
          "base_uri": "https://localhost:8080/"
        },
        "id": "TMvp-iVQ6Wno",
        "outputId": "8400f17e-49da-410a-a97d-7b8d62e6f3e6"
      },
      "execution_count": 61,
      "outputs": [
        {
          "output_type": "execute_result",
          "data": {
            "text/plain": [
              "3"
            ]
          },
          "metadata": {},
          "execution_count": 61
        }
      ]
    },
    {
      "cell_type": "code",
      "source": [
        "string_1.count('l')"
      ],
      "metadata": {
        "colab": {
          "base_uri": "https://localhost:8080/"
        },
        "id": "y3aHqxaf6fEz",
        "outputId": "35876462-932d-4352-88dd-67ec104c876f"
      },
      "execution_count": 62,
      "outputs": [
        {
          "output_type": "execute_result",
          "data": {
            "text/plain": [
              "0"
            ]
          },
          "metadata": {},
          "execution_count": 62
        }
      ]
    },
    {
      "cell_type": "markdown",
      "source": [
        "Find"
      ],
      "metadata": {
        "id": "jp4x5Vlj6idD"
      }
    },
    {
      "cell_type": "code",
      "source": [
        "first_index = string_1.find('f')\n",
        "first_index"
      ],
      "metadata": {
        "colab": {
          "base_uri": "https://localhost:8080/"
        },
        "id": "wMd6UKgr6mP1",
        "outputId": "80904718-36c5-41ff-bfc7-41ad2da10204"
      },
      "execution_count": 66,
      "outputs": [
        {
          "output_type": "execute_result",
          "data": {
            "text/plain": [
              "3"
            ]
          },
          "metadata": {},
          "execution_count": 66
        }
      ]
    },
    {
      "cell_type": "code",
      "source": [
        "second_index = string_1[first_index+1:].find('f')\n",
        "second_index = second_index+first_index+1\n",
        "second_index"
      ],
      "metadata": {
        "colab": {
          "base_uri": "https://localhost:8080/"
        },
        "id": "V3IX_sXQ8uly",
        "outputId": "50fdde5f-5895-4b9d-c38d-878de6cfb106"
      },
      "execution_count": 70,
      "outputs": [
        {
          "output_type": "execute_result",
          "data": {
            "text/plain": [
              "16"
            ]
          },
          "metadata": {},
          "execution_count": 70
        }
      ]
    },
    {
      "cell_type": "code",
      "source": [
        "string_1.find('l')"
      ],
      "metadata": {
        "colab": {
          "base_uri": "https://localhost:8080/"
        },
        "id": "J7NloxDS87BS",
        "outputId": "d4c21025-fef0-41f8-8c76-f2f79aaa3c64"
      },
      "execution_count": 72,
      "outputs": [
        {
          "output_type": "execute_result",
          "data": {
            "text/plain": [
              "-1"
            ]
          },
          "metadata": {},
          "execution_count": 72
        }
      ]
    },
    {
      "cell_type": "code",
      "source": [
        "string_1.rfind('f')"
      ],
      "metadata": {
        "colab": {
          "base_uri": "https://localhost:8080/"
        },
        "id": "dwnTvFhL9YdS",
        "outputId": "611c872f-92f4-417c-9b5c-efe282cd8611"
      },
      "execution_count": 73,
      "outputs": [
        {
          "output_type": "execute_result",
          "data": {
            "text/plain": [
              "17"
            ]
          },
          "metadata": {},
          "execution_count": 73
        }
      ]
    },
    {
      "cell_type": "markdown",
      "source": [
        "**StartsWith and EndsWith**"
      ],
      "metadata": {
        "id": "3DXqwfDt-fVj"
      }
    },
    {
      "cell_type": "code",
      "source": [
        "string_1.startswith(\" \")"
      ],
      "metadata": {
        "colab": {
          "base_uri": "https://localhost:8080/"
        },
        "id": "b5AUK5TM-rwy",
        "outputId": "55a29768-63c0-4a54-ecdf-a908a6c1555d"
      },
      "execution_count": 75,
      "outputs": [
        {
          "output_type": "execute_result",
          "data": {
            "text/plain": [
              "False"
            ]
          },
          "metadata": {},
          "execution_count": 75
        }
      ]
    },
    {
      "cell_type": "code",
      "source": [
        "string_1.startswith(\"p\")"
      ],
      "metadata": {
        "colab": {
          "base_uri": "https://localhost:8080/"
        },
        "id": "rJDlSuUB-v5R",
        "outputId": "95ddf76b-bfdd-4c82-b2a7-8a003a708ffc"
      },
      "execution_count": 76,
      "outputs": [
        {
          "output_type": "execute_result",
          "data": {
            "text/plain": [
              "False"
            ]
          },
          "metadata": {},
          "execution_count": 76
        }
      ]
    },
    {
      "cell_type": "code",
      "source": [
        "string_1.startswith(\"P\")"
      ],
      "metadata": {
        "colab": {
          "base_uri": "https://localhost:8080/"
        },
        "id": "GfJdiZhN-zIx",
        "outputId": "fdc1fbb5-d915-460c-c7cb-6a722d8a33e0"
      },
      "execution_count": 77,
      "outputs": [
        {
          "output_type": "execute_result",
          "data": {
            "text/plain": [
              "True"
            ]
          },
          "metadata": {},
          "execution_count": 77
        }
      ]
    },
    {
      "cell_type": "code",
      "source": [
        "string_1.endswith(\"x\")"
      ],
      "metadata": {
        "colab": {
          "base_uri": "https://localhost:8080/"
        },
        "id": "2pxYDWwV-2CS",
        "outputId": "f1091bc0-fdb5-439c-861c-ff9b0726efd7"
      },
      "execution_count": 78,
      "outputs": [
        {
          "output_type": "execute_result",
          "data": {
            "text/plain": [
              "True"
            ]
          },
          "metadata": {},
          "execution_count": 78
        }
      ]
    },
    {
      "cell_type": "markdown",
      "source": [
        "Partition"
      ],
      "metadata": {
        "id": "rBJqeFUk-4OC"
      }
    },
    {
      "cell_type": "code",
      "source": [
        "string_1"
      ],
      "metadata": {
        "colab": {
          "base_uri": "https://localhost:8080/",
          "height": 35
        },
        "id": "EPm7ZX21-9o0",
        "outputId": "424ae605-fc31-4711-8c91-eccc52d9ff1b"
      },
      "execution_count": 79,
      "outputs": [
        {
          "output_type": "execute_result",
          "data": {
            "text/plain": [
              "'Prefixsentencesuffix'"
            ],
            "application/vnd.google.colaboratory.intrinsic+json": {
              "type": "string"
            }
          },
          "metadata": {},
          "execution_count": 79
        }
      ]
    },
    {
      "cell_type": "code",
      "source": [
        "string_1.partition(\"x\") # partitions at the first occurrence and returns tuple of size 3, if doesnt find the substring returns the entire string as first element of the tuple and the other two are empty"
      ],
      "metadata": {
        "colab": {
          "base_uri": "https://localhost:8080/"
        },
        "id": "8XVXffFj_D8i",
        "outputId": "9057f235-8bff-4c01-bbd8-5db97483aa5e"
      },
      "execution_count": 80,
      "outputs": [
        {
          "output_type": "execute_result",
          "data": {
            "text/plain": [
              "('Prefi', 'x', 'sentencesuffix')"
            ]
          },
          "metadata": {},
          "execution_count": 80
        }
      ]
    },
    {
      "cell_type": "markdown",
      "source": [
        "**Center, Ljust and Rjust**\n"
      ],
      "metadata": {
        "id": "kMWx72yD_HpC"
      }
    },
    {
      "cell_type": "code",
      "source": [
        "string_1.center(50, \"-\")"
      ],
      "metadata": {
        "colab": {
          "base_uri": "https://localhost:8080/",
          "height": 35
        },
        "id": "IGazx3qJ_gIi",
        "outputId": "b446a5fe-cd5c-4f39-9a52-d5685e47dba3"
      },
      "execution_count": 81,
      "outputs": [
        {
          "output_type": "execute_result",
          "data": {
            "text/plain": [
              "'---------------Prefixsentencesuffix---------------'"
            ],
            "application/vnd.google.colaboratory.intrinsic+json": {
              "type": "string"
            }
          },
          "metadata": {},
          "execution_count": 81
        }
      ]
    },
    {
      "cell_type": "code",
      "source": [
        "string_1.ljust(50, \"-\")"
      ],
      "metadata": {
        "colab": {
          "base_uri": "https://localhost:8080/",
          "height": 35
        },
        "id": "3FbwnIWM_kGS",
        "outputId": "b1f62416-1d42-4f9a-d06a-3527d2149b1e"
      },
      "execution_count": 83,
      "outputs": [
        {
          "output_type": "execute_result",
          "data": {
            "text/plain": [
              "'Prefixsentencesuffix------------------------------'"
            ],
            "application/vnd.google.colaboratory.intrinsic+json": {
              "type": "string"
            }
          },
          "metadata": {},
          "execution_count": 83
        }
      ]
    },
    {
      "cell_type": "code",
      "source": [
        "string_1.rjust(50, \"-\")"
      ],
      "metadata": {
        "colab": {
          "base_uri": "https://localhost:8080/",
          "height": 35
        },
        "id": "pb2qf_iU_t3C",
        "outputId": "35f79564-ef8d-4641-e135-811fd88c7d6e"
      },
      "execution_count": 84,
      "outputs": [
        {
          "output_type": "execute_result",
          "data": {
            "text/plain": [
              "'------------------------------Prefixsentencesuffix'"
            ],
            "application/vnd.google.colaboratory.intrinsic+json": {
              "type": "string"
            }
          },
          "metadata": {},
          "execution_count": 84
        }
      ]
    },
    {
      "cell_type": "markdown",
      "source": [
        "F Strings\n"
      ],
      "metadata": {
        "id": "MFKo4i6x_0Zx"
      }
    },
    {
      "cell_type": "code",
      "source": [
        "what = \"what\"\n",
        "are = \"are you\"\n",
        "string = f'{what} {are} doing?'\n",
        "string"
      ],
      "metadata": {
        "colab": {
          "base_uri": "https://localhost:8080/",
          "height": 35
        },
        "id": "f4UkGSoxADJz",
        "outputId": "7da1d54c-6b1d-4d3d-e87b-02ba23291d0a"
      },
      "execution_count": 88,
      "outputs": [
        {
          "output_type": "execute_result",
          "data": {
            "text/plain": [
              "'what are you doing?'"
            ],
            "application/vnd.google.colaboratory.intrinsic+json": {
              "type": "string"
            }
          },
          "metadata": {},
          "execution_count": 88
        }
      ]
    },
    {
      "cell_type": "code",
      "source": [
        "string = f'{what} {are*2} doing?'\n",
        "string"
      ],
      "metadata": {
        "colab": {
          "base_uri": "https://localhost:8080/",
          "height": 35
        },
        "id": "2_VYkUjWAScB",
        "outputId": "29197d61-e92d-4887-eeac-0c14595462a8"
      },
      "execution_count": 89,
      "outputs": [
        {
          "output_type": "execute_result",
          "data": {
            "text/plain": [
              "'what are youare you doing?'"
            ],
            "application/vnd.google.colaboratory.intrinsic+json": {
              "type": "string"
            }
          },
          "metadata": {},
          "execution_count": 89
        }
      ]
    },
    {
      "cell_type": "markdown",
      "source": [
        "**SwapCase**\n"
      ],
      "metadata": {
        "id": "PcK0jTWDAZhR"
      }
    },
    {
      "cell_type": "code",
      "source": [
        "string = \"HELLO World\""
      ],
      "metadata": {
        "id": "oD0kyryuAmGC"
      },
      "execution_count": 90,
      "outputs": []
    },
    {
      "cell_type": "code",
      "source": [
        "string.swapcase()"
      ],
      "metadata": {
        "colab": {
          "base_uri": "https://localhost:8080/",
          "height": 35
        },
        "id": "SbctABBuAn7h",
        "outputId": "0da943de-8066-4ddf-cc5d-4d1d7e8bdeca"
      },
      "execution_count": 91,
      "outputs": [
        {
          "output_type": "execute_result",
          "data": {
            "text/plain": [
              "'hello wORLD'"
            ],
            "application/vnd.google.colaboratory.intrinsic+json": {
              "type": "string"
            }
          },
          "metadata": {},
          "execution_count": 91
        }
      ]
    },
    {
      "cell_type": "markdown",
      "source": [
        "**Zfill**"
      ],
      "metadata": {
        "id": "6FeTCE5RAphx"
      }
    },
    {
      "cell_type": "code",
      "source": [
        "string_1 = '-25'"
      ],
      "metadata": {
        "id": "5DQfqjViAvFi"
      },
      "execution_count": 94,
      "outputs": []
    },
    {
      "cell_type": "code",
      "source": [
        "string_1.zfill(5) #retains the sign"
      ],
      "metadata": {
        "colab": {
          "base_uri": "https://localhost:8080/",
          "height": 35
        },
        "id": "9PApL9oVA7Ux",
        "outputId": "08dc925a-a9e6-4f54-9fe5-557de7b97ec4"
      },
      "execution_count": 96,
      "outputs": [
        {
          "output_type": "execute_result",
          "data": {
            "text/plain": [
              "'-0025'"
            ],
            "application/vnd.google.colaboratory.intrinsic+json": {
              "type": "string"
            }
          },
          "metadata": {},
          "execution_count": 96
        }
      ]
    },
    {
      "cell_type": "markdown",
      "source": [
        " Source: https://www.youtube.com/watch?v=HJpiAZDJrRY&ab_channel=PatrickLoeber"
      ],
      "metadata": {
        "id": "iaF-PswIA-Yh"
      }
    },
    {
      "cell_type": "markdown",
      "source": [
        "Q1. Typed Out Strings\n",
        "\n",
        "```\n",
        "\n",
        "Given two strings return if they are equal when typed out. Any # is considered as backspace.\n",
        "\n",
        "Example: Input 'Hello#World', 'HelloWorld\n",
        "Output False\n",
        "\n",
        "Reasoning: When typed out both strings will be 'HellWorld' and 'HelloWorld' respectively\n",
        "\n",
        "```\n",
        "\n",
        "Constraints: Can the strings be empty?\n",
        "\n",
        "Can there only be just a # in the string?\n",
        "\n",
        "What happens to string when there is nothing left to delete? Nothing, just like with backspace"
      ],
      "metadata": {
        "id": "PvitXEBFBPaR"
      }
    },
    {
      "cell_type": "code",
      "source": [
        "\n",
        "def typedout(string1):\n",
        "  i = 0\n",
        "  while i < len(string1):\n",
        "    \n",
        "    if (string1[i] == '#') and (i >0) and i < (len(string1)-1):\n",
        "      print(i)\n",
        "      string1 = string1[:i-1]+string1[i+1:]\n",
        "\n",
        "    elif (string1[i] == \"#\") and (i == 0):\n",
        "      string1 = string1[i+1:]\n",
        "\n",
        "    elif (string1[i] == \"#\") and (i == len(string1)):\n",
        "      string1 = string1[:i-1]\n",
        "    i = i+1\n",
        "\n",
        "  return string1\n",
        "\n",
        "def isequal( string1, string2):\n",
        "  \n",
        "  string1 = typedout(string1)\n",
        "  string2 = typedout(string2)\n",
        "  print(string1)\n",
        "  print(string2)\n",
        "\n",
        "  \n",
        "  if string1 == string2: # case sensitivity matter\n",
        "    return True\n",
        "  else:\n",
        "    return False\n"
      ],
      "metadata": {
        "id": "ot56oV3tBy5k"
      },
      "execution_count": 45,
      "outputs": []
    },
    {
      "cell_type": "code",
      "source": [
        "print(isequal(\"Hello#World\", \"HellWorld\"))"
      ],
      "metadata": {
        "colab": {
          "base_uri": "https://localhost:8080/"
        },
        "id": "uYJ85vg_DVKu",
        "outputId": "66ea553d-ddd5-41bf-f706-5807c8510d1f"
      },
      "execution_count": 46,
      "outputs": [
        {
          "output_type": "stream",
          "name": "stdout",
          "text": [
            "5\n",
            "HellWorld\n",
            "HellWorld\n",
            "True\n"
          ]
        }
      ]
    },
    {
      "cell_type": "code",
      "source": [
        "print(isequal(\"#HelloWorld\", \"HelloWorld\"))"
      ],
      "metadata": {
        "colab": {
          "base_uri": "https://localhost:8080/"
        },
        "id": "3GIGkbU2Dv5B",
        "outputId": "27b6bfa3-95ac-452a-fa01-778ff3d9f032"
      },
      "execution_count": 47,
      "outputs": [
        {
          "output_type": "stream",
          "name": "stdout",
          "text": [
            "HelloWorld\n",
            "HelloWorld\n",
            "True\n"
          ]
        }
      ]
    },
    {
      "cell_type": "markdown",
      "source": [
        "**Q2. Longest Substring Without Repeating characters**\n",
        "\n",
        "\n",
        "\n",
        "```\n",
        "Given a string fing the length of the longest substring without repeating characters.\n",
        "\n",
        "Substring vs Subsequence:\n",
        "\n",
        "substring: no breaks between them, coniguous, side by side and sequential\n",
        "\n",
        "subsequence: there can be a break, doesnt have to contiguous\n",
        "```\n",
        "\n"
      ],
      "metadata": {
        "id": "RT81905gFEtR"
      }
    },
    {
      "cell_type": "code",
      "source": [
        "def longest_substring(string):\n",
        "\n",
        "  d = {}\n",
        "  max_len = 0\n",
        "  i = 0\n",
        "  count_len = 0\n",
        "  while i < len(string):\n",
        "    if string[i] not in d:\n",
        "      d[string[i]] = i\n",
        "      count_len +=1\n",
        "    else:\n",
        "      if count_len > max_len:\n",
        "        max_len = count_len\n",
        "        count_len = 0\n",
        "        d = {}\n",
        "    i = i+1\n",
        "  if count_len > max_len:\n",
        "    max_len = count_len\n",
        "  return max_len\n",
        "      \n",
        "\n",
        " #Solution's time complexity O(n)\n",
        " #Space complexity O(n)     \n",
        "\n",
        "\n"
      ],
      "metadata": {
        "id": "Loow0UKHNzqo"
      },
      "execution_count": 57,
      "outputs": []
    },
    {
      "cell_type": "code",
      "source": [
        "print(longest_substring(\"HelloWorld\"))"
      ],
      "metadata": {
        "colab": {
          "base_uri": "https://localhost:8080/"
        },
        "id": "jx4wFVOKOlrv",
        "outputId": "119c2eec-9fb4-4e9d-a446-4a4f7604f1f6"
      },
      "execution_count": 58,
      "outputs": [
        {
          "output_type": "stream",
          "name": "stdout",
          "text": [
            "5\n"
          ]
        }
      ]
    },
    {
      "cell_type": "code",
      "source": [],
      "metadata": {
        "id": "afv4XU8dOvhO"
      },
      "execution_count": null,
      "outputs": []
    }
  ]
}